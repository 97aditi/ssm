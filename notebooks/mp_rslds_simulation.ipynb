{
 "cells": [
  {
   "cell_type": "markdown",
   "metadata": {},
   "source": [
    "## Import packages, including multipopulation extensions"
   ]
  },
  {
   "cell_type": "code",
   "execution_count": 1,
   "metadata": {},
   "outputs": [],
   "source": [
    "#### General packages\n",
    "\n",
    "from matplotlib import pyplot as plt\n",
    "%matplotlib inline\n",
    "import autograd.numpy as np\n",
    "import autograd.numpy.random as npr\n",
    "\n",
    "import seaborn as sns\n",
    "sns.set_style(\"white\")\n",
    "sns.set_context(\"talk\")\n",
    "sns.set_style('ticks',{\"xtick.major.size\":8,\n",
    "\"ytick.major.size\":8})\n",
    "from ssm.plots import gradient_cmap, white_to_color_cmap\n",
    "\n",
    "color_names = [\n",
    "    \"windows blue\",\n",
    "    \"red\",\n",
    "    \"amber\",\n",
    "    \"faded green\",\n",
    "    \"dusty purple\",\n",
    "    \"orange\"\n",
    "    ]\n",
    "\n",
    "colors = sns.xkcd_palette(color_names)\n",
    "cmap = gradient_cmap(colors)"
   ]
  },
  {
   "cell_type": "code",
   "execution_count": 2,
   "metadata": {},
   "outputs": [],
   "source": [
    "#### SSM PACKAGES ###\n",
    "\n",
    "import ssm\n",
    "from ssm.variational import SLDSMeanFieldVariationalPosterior, SLDSTriDiagVariationalPosterior, \\\n",
    "\tSLDSStructuredMeanFieldVariationalPosterior\n",
    "from ssm.util import random_rotation, find_permutation, relu\n",
    "\n",
    "from extensions.mp_srslds.emissions_ext import GaussianOrthogonalCompoundEmissions, PoissonOrthogonalCompoundEmissions\n",
    "from extensions.mp_srslds.transitions_ext import StickyRecurrentOnlyTransitions, StickyRecurrentTransitions"
   ]
  },
  {
   "cell_type": "markdown",
   "metadata": {},
   "source": [
    "## Simulate data"
   ]
  },
  {
   "cell_type": "code",
   "execution_count": 3,
   "metadata": {},
   "outputs": [],
   "source": [
    "K=3 #Number of discrete states\n",
    "\n",
    "num_gr=3 #Number of populations\n",
    "num_per_gr=5 #Number of latents per population\n",
    "neur_per_gr=75 #Number of neurons per population\n",
    "\n",
    "t_end=5000 #number of time bins\n",
    "num_trials=1 #number of trials"
   ]
  },
  {
   "cell_type": "code",
   "execution_count": 4,
   "metadata": {},
   "outputs": [],
   "source": [
    "#Vector containing number of latents per population\n",
    "D_vec=[]\n",
    "for i in range(num_gr):\n",
    "    D_vec.append(num_per_gr) \n",
    "\n",
    "#Vector containing number of neurons per population\n",
    "N_vec=[]\n",
    "for i in range(num_gr):\n",
    "    N_vec.append(neur_per_gr)\n",
    "\n",
    "\n",
    "D=np.sum(D_vec)\n",
    "num_gr=len(D_vec)\n",
    "D_vec_cumsum = np.concatenate(([0], np.cumsum(D_vec)))\n",
    "\n",
    "gauss_comp_emissions=GaussianOrthogonalCompoundEmissions(N=np.sum(N_vec),K=1,D=np.sum(D_vec),D_vec=D_vec,N_vec=N_vec)\n",
    "poiss_comp_emissions=PoissonOrthogonalCompoundEmissions(N=np.sum(N_vec),K=1,D=np.sum(D_vec),D_vec=D_vec,N_vec=N_vec,link='softplus')\n",
    "\n",
    "np.random.seed(108)\n"
   ]
  },
  {
   "cell_type": "code",
   "execution_count": 5,
   "metadata": {},
   "outputs": [
    {
     "name": "stdout",
     "output_type": "stream",
     "text": [
      "alphas: [0.05336111 0.03343876 0.08800889]\n"
     ]
    }
   ],
   "source": [
    "alphas=.03+.1*np.random.rand(K) #Determines the distribution of values in the dynamics matrix, for each discrete state\n",
    "print('alphas:', alphas)\n",
    "\n",
    "sparsity=.33 #Proportion of non-diagonal blocks in the dynamics matrix that are 0\n",
    "\n",
    "e1=.1 #Amount of noise in the dynamics"
   ]
  },
  {
   "cell_type": "code",
   "execution_count": null,
   "metadata": {},
   "outputs": [],
   "source": []
  },
  {
   "cell_type": "markdown",
   "metadata": {},
   "source": [
    "## Create (somewhat) realistic simulated data"
   ]
  },
  {
   "cell_type": "code",
   "execution_count": 6,
   "metadata": {
    "scrolled": true
   },
   "outputs": [],
   "source": [
    "np.random.seed(10)\n",
    "\n",
    "A_masks=[]\n",
    "\n",
    "A_all=np.zeros([K,D,D])\n",
    "b_all=np.zeros([K,D])\n",
    "\n",
    "true_sro_trans=StickyRecurrentOnlyTransitions(K=K,D=np.sum(D_vec))\n",
    "\n",
    "true_slds = ssm.SLDS(N=np.sum(N_vec),K=K,D=int(np.sum(D_vec)),\n",
    "             dynamics=\"gaussian\",\n",
    "             emissions=poiss_comp_emissions,\n",
    "             transitions=true_sro_trans)\n",
    "\n",
    "v=.2+.2*np.random.rand(1)\n",
    "\n",
    "for k in range(K):\n",
    "    inc=np.copy(k)\n",
    "    true_slds.transitions.Rs[k,D_vec_cumsum[inc]:D_vec_cumsum[inc]+1]=v\n",
    "    true_slds.transitions.Ss[k,D_vec_cumsum[inc]:D_vec_cumsum[inc]+1]=v-.1\n",
    "\n",
    "true_slds.transitions.r=0*np.ones([K,1])\n",
    "true_slds.transitions.s=5*np.ones([K,1])\n",
    "\n",
    "\n",
    "for k in range(K):\n",
    "\n",
    "    ##Create dynamics##\n",
    "    alpha=alphas[k]\n",
    "\n",
    "\n",
    "    A_mask=np.random.rand(num_gr,num_gr)>sparsity\n",
    "\n",
    "    A_masks.append(A_mask)\n",
    "\n",
    "    for i in range(num_gr): \n",
    "        A_mask[i,i]=1\n",
    "\n",
    "    A0=np.zeros([D,D])\n",
    "    for i in range(D-1):\n",
    "        A0[i,i+1:]=alpha*np.random.randn(D-1-i)\n",
    "    A0=(A0-A0.T)\n",
    "\n",
    "    for i in range(num_gr):\n",
    "        A0[D_vec_cumsum[i]:D_vec_cumsum[i+1],D_vec_cumsum[i]:D_vec_cumsum[i+1]]=2*A0[D_vec_cumsum[i]:D_vec_cumsum[i+1],D_vec_cumsum[i]:D_vec_cumsum[i+1]]\n",
    "\n",
    "\n",
    "    A0=A0+np.identity(D)\n",
    "    A=A0*np.kron(A_mask, np.ones((num_per_gr, num_per_gr)))\n",
    "\n",
    "    A=A/(np.max(np.abs(np.linalg.eigvals(A)))+.01) #.97\n",
    "\n",
    "    b=1*np.random.rand(D) #.1\n",
    "\n",
    "    A_all[k]=A\n",
    "    b_all[k]=b\n",
    "\n",
    "true_slds.dynamics.As=A_all\n",
    "true_slds.dynamics.bs=b_all\n",
    "\n",
    "zs, xs, _ = true_slds.sample(t_end)\n",
    "tmp=np.mean(relu(np.dot(true_slds.emissions.Cs[0],xs.T)+.1*true_slds.emissions.ds[0][:,None]).T)\n",
    "mult=.25/tmp\n",
    "lams=relu(mult*np.dot(true_slds.emissions.Cs[0],xs.T)+.1*true_slds.emissions.ds[0][:,None]).T\n",
    "ys=np.random.poisson(lams)"
   ]
  },
  {
   "cell_type": "markdown",
   "metadata": {},
   "source": [
    "## Plot simulated data"
   ]
  },
  {
   "cell_type": "markdown",
   "metadata": {},
   "source": [
    "### Dynamics matrices"
   ]
  },
  {
   "cell_type": "code",
   "execution_count": 7,
   "metadata": {},
   "outputs": [
    {
     "data": {
      "image/png": "[encoded data removed]",
      "text/plain": [
       "<Figure size 432x288 with 1 Axes>"
      ]
     },
     "metadata": {
      "needs_background": "light"
     },
     "output_type": "display_data"
    },
    {
     "data": {
      "image/png": "[encoded data removed]",
      "text/plain": [
       "<Figure size 432x288 with 1 Axes>"
      ]
     },
     "metadata": {
      "needs_background": "light"
     },
     "output_type": "display_data"
    },
    {
     "data": {
      "image/png": "[encoded data removed]",
      "text/plain": [
       "<Figure size 432x288 with 1 Axes>"
      ]
     },
     "metadata": {
      "needs_background": "light"
     },
     "output_type": "display_data"
    }
   ],
   "source": [
    "for k in range(K):\n",
    "    plt.figure()    \n",
    "    plt.imshow(true_slds.dynamics.As[k], aspect='auto', interpolation=\"none\", vmin=-1, vmax=1, cmap='RdBu')"
   ]
  },
  {
   "cell_type": "markdown",
   "metadata": {},
   "source": [
    "### Discrete states"
   ]
  },
  {
   "cell_type": "code",
   "execution_count": 8,
   "metadata": {},
   "outputs": [
    {
     "data": {
      "text/plain": [
       "([], <a list of 0 Text yticklabel objects>)"
      ]
     },
     "execution_count": 8,
     "metadata": {},
     "output_type": "execute_result"
    },
    {
     "data": {
      "image/png": "[encoded data removed]",
      "text/plain": [
       "<Figure size 576x288 with 1 Axes>"
      ]
     },
     "metadata": {
      "needs_background": "light"
     },
     "output_type": "display_data"
    }
   ],
   "source": [
    "plt.figure(figsize=(8, 4))\n",
    "plt.subplot(211)\n",
    "plt.imshow(zs[None,:], aspect=\"auto\", cmap=cmap, vmin=0, vmax=len(colors)-1)\n",
    "plt.xlim(0, t_end)\n",
    "plt.ylabel(\"$z_{\\\\mathrm{true}}$\")\n",
    "plt.yticks([])"
   ]
  },
  {
   "cell_type": "markdown",
   "metadata": {},
   "source": [
    "### Transitions (in a shorter time window)"
   ]
  },
  {
   "cell_type": "code",
   "execution_count": 9,
   "metadata": {},
   "outputs": [],
   "source": [
    "dur=200\n",
    "st_t=650\n",
    "end_t=st_t+dur"
   ]
  },
  {
   "cell_type": "code",
   "execution_count": 10,
   "metadata": {},
   "outputs": [
    {
     "data": {
      "text/plain": [
       "([], <a list of 0 Text yticklabel objects>)"
      ]
     },
     "execution_count": 10,
     "metadata": {},
     "output_type": "execute_result"
    },
    {
     "data": {
      "image/png": "[encoded data removed]",
      "text/plain": [
       "<Figure size 576x288 with 2 Axes>"
      ]
     },
     "metadata": {
      "needs_background": "light"
     },
     "output_type": "display_data"
    }
   ],
   "source": [
    "plt.figure(figsize=(8, 4))\n",
    "\n",
    "j=0\n",
    "\n",
    "plt.subplot(211)\n",
    "for g in range(K):\n",
    "    plt.plot(np.dot(xs[st_t:end_t,D_vec_cumsum[g]:D_vec_cumsum[g+1]],true_slds.transitions.Rs[j,D_vec_cumsum[g]:D_vec_cumsum[g+1]].T))\n",
    "plt.xlim(0, dur)\n",
    "plt.ylabel('Switch to blue')\n",
    "plt.xticks([])\n",
    "plt.yticks([])\n",
    "\n",
    "j=1\n",
    "plt.subplot(212)\n",
    "for g in range(K):\n",
    "    plt.plot(np.dot(xs[st_t:end_t,D_vec_cumsum[g]:D_vec_cumsum[g+1]],true_slds.transitions.Rs[j,D_vec_cumsum[g]:D_vec_cumsum[g+1]].T))\n",
    "plt.xlim(0, dur)\n",
    "plt.ylabel('Stay in Red')\n",
    "plt.legend(['Pop 1','Pop 2','Pop 3'])\n",
    "plt.yticks([])"
   ]
  },
  {
   "cell_type": "markdown",
   "metadata": {},
   "source": [
    "### Latents and spikes for an example population"
   ]
  },
  {
   "cell_type": "code",
   "execution_count": 11,
   "metadata": {},
   "outputs": [
    {
     "data": {
      "text/plain": [
       "[<matplotlib.lines.Line2D at 0x13cfc3b38>,\n",
       " <matplotlib.lines.Line2D at 0x13cfe6080>,\n",
       " <matplotlib.lines.Line2D at 0x13cfe6208>,\n",
       " <matplotlib.lines.Line2D at 0x13cfe6390>,\n",
       " <matplotlib.lines.Line2D at 0x13cfe6518>,\n",
       " <matplotlib.lines.Line2D at 0x13cfe66a0>,\n",
       " <matplotlib.lines.Line2D at 0x13cfe6828>,\n",
       " <matplotlib.lines.Line2D at 0x13cfe69b0>,\n",
       " <matplotlib.lines.Line2D at 0x13cfe6b38>,\n",
       " <matplotlib.lines.Line2D at 0x13cfe6cc0>]"
      ]
     },
     "execution_count": 11,
     "metadata": {},
     "output_type": "execute_result"
    },
    {
     "data": {
      "image/png": "[encoded data removed]",
      "text/plain": [
       "<Figure size 432x288 with 2 Axes>"
      ]
     },
     "metadata": {
      "needs_background": "light"
     },
     "output_type": "display_data"
    }
   ],
   "source": [
    "time_example=np.arange(1000,1100)\n",
    "plt.figure()\n",
    "plt.subplot(211)\n",
    "plt.plot(time_example,xs[time_example,:num_per_gr])\n",
    "plt.subplot(212)\n",
    "plt.plot(time_example,ys[time_example,:10])\n"
   ]
  },
  {
   "cell_type": "markdown",
   "metadata": {},
   "source": [
    "## Fit model to data"
   ]
  },
  {
   "cell_type": "code",
   "execution_count": 26,
   "metadata": {},
   "outputs": [
    {
     "name": "stdout",
     "output_type": "stream",
     "text": [
      "Initializing with an ARHMM using 25 steps of EM.\n",
      "initialization method is: ar_clust\n",
      "t_win: 10\n",
      "t_gap: 4\n"
     ]
    },
    {
     "data": {
      "application/vnd.jupyter.widget-view+json": {
       "model_id": "9078b84592d04a4892e9ec706dc6ba45",
       "version_major": 2,
       "version_minor": 0
      },
      "text/plain": [
       "HBox(children=(IntProgress(value=0, max=25), HTML(value='')))"
      ]
     },
     "metadata": {},
     "output_type": "display_data"
    },
    {
     "name": "stdout",
     "output_type": "stream",
     "text": [
      "init\n",
      "\n"
     ]
    },
    {
     "data": {
      "application/vnd.jupyter.widget-view+json": {
       "model_id": "0cb3fafeb7334572a956d82f014ddcf2",
       "version_major": 2,
       "version_minor": 0
      },
      "text/plain": [
       "HBox(children=(IntProgress(value=0, max=40), HTML(value='')))"
      ]
     },
     "metadata": {},
     "output_type": "display_data"
    },
    {
     "name": "stdout",
     "output_type": "stream",
     "text": [
      "\n"
     ]
    }
   ],
   "source": [
    "sro_trans=StickyRecurrentOnlyTransitions(K=K,D=np.sum(D_vec), l2_penalty_similarity=1000)\n",
    "\n",
    "lds_ar = ssm.SLDS(N=np.sum(N_vec),K=K,D=np.sum(D_vec),\n",
    "             dynamics=\"gaussian\",\n",
    "             emissions=poiss_comp_emissions,\n",
    "             transitions=sro_trans,\n",
    "             dynamics_kwargs=dict(l2_penalty_A=100))\n",
    "\n",
    "# lds_ar = ssm.SLDS(N=np.sum(N_vec),K=K,D=np.sum(D_vec),\n",
    "#              dynamics=\"gaussian\",\n",
    "#              emissions=poiss_comp_emissions,\n",
    "#              dynamics_kwargs=dict(l2_penalty_A=100))\n",
    "\n",
    "lds_ar.initialize(ys,init='ar_clust', t_win=10, t_gap=4)\n",
    "\n",
    "q_elbos_ar, q_ar = lds_ar.fit(ys, method=\"laplace_em\",\n",
    "                               variational_posterior=\"structured_meanfield\", continuous_optimizer='newton',\n",
    "                               initialize=False, num_iters=40, alpha=.25)"
   ]
  },
  {
   "cell_type": "code",
   "execution_count": 33,
   "metadata": {},
   "outputs": [
    {
     "data": {
      "text/plain": [
       "array([-0.46426889,  0.11608741, -1.287167  ])"
      ]
     },
     "execution_count": 33,
     "metadata": {},
     "output_type": "execute_result"
    }
   ],
   "source": [
    "lds_ar.transitions.s"
   ]
  },
  {
   "cell_type": "code",
   "execution_count": 34,
   "metadata": {},
   "outputs": [
    {
     "data": {
      "text/plain": [
       "array([-0.56236225,  0.07320953, -1.40513681])"
      ]
     },
     "execution_count": 34,
     "metadata": {},
     "output_type": "execute_result"
    }
   ],
   "source": [
    "lds_ar.transitions.r"
   ]
  },
  {
   "cell_type": "code",
   "execution_count": 27,
   "metadata": {},
   "outputs": [
    {
     "data": {
      "text/plain": [
       "[<matplotlib.lines.Line2D at 0x13a16ca58>]"
      ]
     },
     "execution_count": 27,
     "metadata": {},
     "output_type": "execute_result"
    },
    {
     "data": {
      "image/png": "[encoded data removed]",
      "text/plain": [
       "<Figure size 432x288 with 1 Axes>"
      ]
     },
     "metadata": {
      "needs_background": "light"
     },
     "output_type": "display_data"
    }
   ],
   "source": [
    "plt.plot(q_elbos_ar[1:])"
   ]
  },
  {
   "cell_type": "markdown",
   "metadata": {},
   "source": [
    "## Plot results"
   ]
  },
  {
   "cell_type": "markdown",
   "metadata": {},
   "source": [
    "### Discrete states"
   ]
  },
  {
   "cell_type": "code",
   "execution_count": 28,
   "metadata": {},
   "outputs": [
    {
     "data": {
      "image/png": "[encoded data removed]",
      "text/plain": [
       "<Figure size 576x288 with 2 Axes>"
      ]
     },
     "metadata": {
      "needs_background": "light"
     },
     "output_type": "display_data"
    }
   ],
   "source": [
    "z_inferred=lds_ar.most_likely_states(q_ar.mean_continuous_states[0],ys)\n",
    "lds_ar.permute(find_permutation(zs, z_inferred))\n",
    "z_inferred2=lds_ar.most_likely_states(q_ar.mean_continuous_states[0],ys)\n",
    "\n",
    "plt.figure(figsize=(8, 4))\n",
    "plt.subplot(211)\n",
    "plt.imshow(zs[None,:], aspect=\"auto\", cmap=cmap, vmin=0, vmax=len(colors)-1)\n",
    "plt.xlim(0, t_end)\n",
    "plt.ylabel(\"$z_{\\\\mathrm{true}}$\")\n",
    "plt.yticks([])\n",
    "\n",
    "plt.subplot(212)\n",
    "plt.imshow(z_inferred2[None,:], aspect=\"auto\", cmap=cmap, vmin=0, vmax=len(colors)-1)\n",
    "plt.xlim(0, t_end)\n",
    "plt.ylabel(\"$z_{\\\\mathrm{inferred}}$\")\n",
    "plt.yticks([])\n",
    "plt.xlabel(\"time\")\n",
    "\n",
    "plt.tight_layout()"
   ]
  },
  {
   "cell_type": "code",
   "execution_count": 29,
   "metadata": {},
   "outputs": [
    {
     "data": {
      "text/plain": [
       "0.9596"
      ]
     },
     "execution_count": 29,
     "metadata": {},
     "output_type": "execute_result"
    }
   ],
   "source": [
    "np.mean(zs==z_inferred2)"
   ]
  },
  {
   "cell_type": "markdown",
   "metadata": {},
   "source": [
    "### Shorter time window"
   ]
  },
  {
   "cell_type": "code",
   "execution_count": 30,
   "metadata": {},
   "outputs": [
    {
     "data": {
      "text/plain": [
       "([], <a list of 0 Text yticklabel objects>)"
      ]
     },
     "execution_count": 30,
     "metadata": {},
     "output_type": "execute_result"
    },
    {
     "data": {
      "image/png": "[encoded data removed]",
      "text/plain": [
       "<Figure size 288x144 with 2 Axes>"
      ]
     },
     "metadata": {
      "needs_background": "light"
     },
     "output_type": "display_data"
    }
   ],
   "source": [
    "\n",
    "\n",
    "plt.figure(figsize=(4, 2))\n",
    "plt.subplot(211)\n",
    "plt.imshow(zs[None,st_t:end_t], aspect=\"auto\", cmap=cmap, vmin=0, vmax=len(colors)-1)\n",
    "plt.xlim(0, dur)\n",
    "plt.ylabel(\"$z_{\\\\mathrm{true}}$\")\n",
    "plt.yticks([])\n",
    "plt.xticks([])\n",
    "\n",
    "plt.subplot(212)\n",
    "plt.imshow(z_inferred2[None,st_t:end_t], aspect=\"auto\", cmap=cmap, vmin=0, vmax=len(colors)-1)\n",
    "plt.xlim(0, dur)\n",
    "plt.ylabel(\"$z_{\\\\mathrm{inferred}}$\")\n",
    "plt.yticks([])"
   ]
  },
  {
   "cell_type": "code",
   "execution_count": null,
   "metadata": {},
   "outputs": [],
   "source": []
  },
  {
   "cell_type": "markdown",
   "metadata": {},
   "source": [
    "### Dynamics"
   ]
  },
  {
   "cell_type": "code",
   "execution_count": 31,
   "metadata": {},
   "outputs": [
    {
     "data": {
      "image/png": "[encoded data removed]",
      "text/plain": [
       "<Figure size 288x288 with 1 Axes>"
      ]
     },
     "metadata": {},
     "output_type": "display_data"
    },
    {
     "data": {
      "image/png": "[encoded data removed]",
      "text/plain": [
       "<Figure size 288x288 with 1 Axes>"
      ]
     },
     "metadata": {},
     "output_type": "display_data"
    },
    {
     "data": {
      "image/png": "[encoded data removed]",
      "text/plain": [
       "<Figure size 288x288 with 1 Axes>"
      ]
     },
     "metadata": {},
     "output_type": "display_data"
    },
    {
     "data": {
      "image/png": "[encoded data removed]",
      "text/plain": [
       "<Figure size 288x288 with 1 Axes>"
      ]
     },
     "metadata": {},
     "output_type": "display_data"
    },
    {
     "data": {
      "image/png": "[encoded data removed]",
      "text/plain": [
       "<Figure size 288x288 with 1 Axes>"
      ]
     },
     "metadata": {},
     "output_type": "display_data"
    },
    {
     "data": {
      "image/png": "[encoded data removed]",
      "text/plain": [
       "<Figure size 288x288 with 1 Axes>"
      ]
     },
     "metadata": {},
     "output_type": "display_data"
    }
   ],
   "source": [
    "for k in range(K):\n",
    "    plt.figure(figsize=(4,4))\n",
    "    plt.imshow(lds_ar.dynamics.As[k], aspect='auto', interpolation=\"none\", vmin=-.5, vmax=.5, cmap='RdBu')\n",
    "    offset=-.5\n",
    "    for nf in D_vec:        \n",
    "        plt.plot([-0.5, D-0.5], [offset, offset], '-k')\n",
    "        plt.plot([offset, offset], [-0.5, D-0.5], '-k')\n",
    "        offset += nf\n",
    "    plt.xticks([])\n",
    "    plt.yticks([])\n",
    "    plt.title('Predicted State '+str(k))\n",
    "#     plt.savefig(folder+'dyn_est'+str(k)+'.pdf')\n",
    "    \n",
    "    plt.figure(figsize=(4,4))\n",
    "    plt.imshow(true_slds.dynamics.As[k], aspect='auto', interpolation=\"none\", vmin=-.5, vmax=.5, cmap='RdBu')\n",
    "    offset=-.5\n",
    "    for nf in D_vec:        \n",
    "        plt.plot([-0.5, D-0.5], [offset, offset], '-k')\n",
    "        plt.plot([offset, offset], [-0.5, D-0.5], '-k')\n",
    "        offset += nf\n",
    "    plt.xticks([])\n",
    "    plt.yticks([])\n",
    "    plt.title('Actual State '+str(k))\n",
    "\n",
    "#     plt.savefig(folder+'dyn_true'+str(k)+'.pdf')"
   ]
  },
  {
   "cell_type": "markdown",
   "metadata": {},
   "source": [
    "### Transitions"
   ]
  },
  {
   "cell_type": "code",
   "execution_count": null,
   "metadata": {},
   "outputs": [],
   "source": [
    "\n"
   ]
  },
  {
   "cell_type": "code",
   "execution_count": 32,
   "metadata": {},
   "outputs": [
    {
     "data": {
      "text/plain": [
       "([], <a list of 0 Text yticklabel objects>)"
      ]
     },
     "execution_count": 32,
     "metadata": {},
     "output_type": "execute_result"
    },
    {
     "data": {
      "image/png": "[encoded data removed]",
      "text/plain": [
       "<Figure size 576x288 with 2 Axes>"
      ]
     },
     "metadata": {},
     "output_type": "display_data"
    }
   ],
   "source": [
    "plt.figure(figsize=(8, 4))\n",
    "\n",
    "j=0\n",
    "\n",
    "plt.subplot(211)\n",
    "for g in range(K):\n",
    "    plt.plot(np.dot(q_ar.mean_continuous_states[0][st_t:end_t,D_vec_cumsum[g]:D_vec_cumsum[g+1]],lds_ar.transitions.Rs[j,D_vec_cumsum[g]:D_vec_cumsum[g+1]].T))\n",
    "plt.xlim(0, dur)\n",
    "# plt.ylabel('Switch to blue')\n",
    "plt.xticks([])\n",
    "plt.yticks([])\n",
    "\n",
    "j=1\n",
    "plt.subplot(212)\n",
    "for g in range(K):\n",
    "    plt.plot(np.dot(q_ar.mean_continuous_states[0][st_t:end_t,D_vec_cumsum[g]:D_vec_cumsum[g+1]],lds_ar.transitions.Rs[j,D_vec_cumsum[g]:D_vec_cumsum[g+1]].T))\n",
    "plt.xlim(0, dur)\n",
    "# plt.ylabel('Stay in Red')\n",
    "plt.xticks([])\n",
    "plt.yticks([])"
   ]
  },
  {
   "cell_type": "code",
   "execution_count": 19,
   "metadata": {},
   "outputs": [
    {
     "data": {
      "text/plain": [
       "([], <a list of 0 Text yticklabel objects>)"
      ]
     },
     "execution_count": 19,
     "metadata": {},
     "output_type": "execute_result"
    },
    {
     "data": {
      "image/png": "[encoded data removed]",
      "text/plain": [
       "<Figure size 576x288 with 2 Axes>"
      ]
     },
     "metadata": {
      "needs_background": "light"
     },
     "output_type": "display_data"
    }
   ],
   "source": [
    "plt.figure(figsize=(8, 4))\n",
    "\n",
    "j=0\n",
    "\n",
    "plt.subplot(211)\n",
    "for g in range(K):\n",
    "    plt.plot(np.dot(xs[st_t:end_t,D_vec_cumsum[g]:D_vec_cumsum[g+1]],true_slds.transitions.Rs[j,D_vec_cumsum[g]:D_vec_cumsum[g+1]].T))\n",
    "plt.xlim(0, dur)\n",
    "plt.ylabel('Switch to blue')\n",
    "plt.xticks([])\n",
    "plt.yticks([])\n",
    "\n",
    "j=1\n",
    "plt.subplot(212)\n",
    "for g in range(K):\n",
    "    plt.plot(np.dot(xs[st_t:end_t,D_vec_cumsum[g]:D_vec_cumsum[g+1]],true_slds.transitions.Rs[j,D_vec_cumsum[g]:D_vec_cumsum[g+1]].T))\n",
    "plt.xlim(0, dur)\n",
    "plt.ylabel('Stay in Red')\n",
    "plt.legend(['Pop 1','Pop 2','Pop 3'])\n",
    "plt.yticks([])"
   ]
  },
  {
   "cell_type": "code",
   "execution_count": 20,
   "metadata": {},
   "outputs": [
    {
     "ename": "NameError",
     "evalue": "name 'stop' is not defined",
     "output_type": "error",
     "traceback": [
      "\u001b[0;31m---------------------------------------------------------------------------\u001b[0m",
      "\u001b[0;31mNameError\u001b[0m                                 Traceback (most recent call last)",
      "\u001b[0;32m<ipython-input-20-4f76a9dad686>\u001b[0m in \u001b[0;36m<module>\u001b[0;34m\u001b[0m\n\u001b[0;32m----> 1\u001b[0;31m \u001b[0mstop\u001b[0m\u001b[0;34m\u001b[0m\u001b[0m\n\u001b[0m",
      "\u001b[0;31mNameError\u001b[0m: name 'stop' is not defined"
     ]
    }
   ],
   "source": [
    "stop"
   ]
  },
  {
   "cell_type": "code",
   "execution_count": null,
   "metadata": {},
   "outputs": [],
   "source": []
  },
  {
   "cell_type": "code",
   "execution_count": null,
   "metadata": {},
   "outputs": [],
   "source": [
    "# plt.figure(figsize=(8, 4))\n",
    "# plt.subplot(211)\n",
    "# plt.imshow(zs[None,:], aspect=\"auto\", cmap=cmap, vmin=0, vmax=len(colors)-1)\n",
    "# plt.xlim(0, t_end)\n",
    "# plt.ylabel(\"$z_{\\\\mathrm{true}}$\")\n",
    "# plt.yticks([])"
   ]
  },
  {
   "cell_type": "code",
   "execution_count": null,
   "metadata": {},
   "outputs": [],
   "source": [
    "plt.plot(zs[400:500])"
   ]
  },
  {
   "cell_type": "code",
   "execution_count": null,
   "metadata": {},
   "outputs": [],
   "source": [
    "for k in range(K):\n",
    "    plt.figure()    \n",
    "    plt.imshow(true_slds.dynamics.As[k], aspect='auto', interpolation=\"none\", vmin=-1, vmax=1, cmap='RdBu')"
   ]
  },
  {
   "cell_type": "code",
   "execution_count": null,
   "metadata": {},
   "outputs": [],
   "source": []
  },
  {
   "cell_type": "code",
   "execution_count": null,
   "metadata": {},
   "outputs": [],
   "source": [
    "def get_gr_norms(A):\n",
    "    AI=A-np.identity(D)\n",
    "    norms=np.zeros([num_gr,num_gr])\n",
    "    for i in range(num_gr):\n",
    "        for j in range(num_gr):\n",
    "            norms[i,j]=np.linalg.norm(AI[D_vec_cumsum[i]:D_vec_cumsum[i+1],D_vec_cumsum[j]:D_vec_cumsum[j+1]])\n",
    "    return norms"
   ]
  },
  {
   "cell_type": "code",
   "execution_count": null,
   "metadata": {},
   "outputs": [],
   "source": [
    "def get_gr_means(A):\n",
    "    AI=A-np.identity(D)\n",
    "    norms=np.zeros([num_gr,num_gr])\n",
    "    for i in range(num_gr):\n",
    "        for j in range(num_gr):\n",
    "            norms[i,j]=np.mean(np.abs(AI[D_vec_cumsum[i]:D_vec_cumsum[i+1],D_vec_cumsum[j]:D_vec_cumsum[j+1]]))\n",
    "    return norms"
   ]
  },
  {
   "cell_type": "code",
   "execution_count": null,
   "metadata": {},
   "outputs": [],
   "source": [
    "# plt.figure(figsize=(8, 4))\n",
    "# plt.subplot(211)\n",
    "# plt.imshow(zs[None,:], aspect=\"auto\", cmap=cmap, vmin=0, vmax=len(colors)-1)\n",
    "# plt.xlim(0, t_end)\n",
    "# plt.ylabel(\"$z_{\\\\mathrm{true}}$\")\n",
    "# plt.yticks([])"
   ]
  },
  {
   "cell_type": "code",
   "execution_count": null,
   "metadata": {},
   "outputs": [],
   "source": [
    "# lds_ar.transitions.Rs"
   ]
  },
  {
   "cell_type": "code",
   "execution_count": null,
   "metadata": {},
   "outputs": [],
   "source": [
    "# lds_ar.transitions.R2s"
   ]
  },
  {
   "cell_type": "code",
   "execution_count": null,
   "metadata": {},
   "outputs": [],
   "source": []
  },
  {
   "cell_type": "code",
   "execution_count": null,
   "metadata": {},
   "outputs": [],
   "source": [
    "np.mean(ys)"
   ]
  },
  {
   "cell_type": "code",
   "execution_count": null,
   "metadata": {},
   "outputs": [],
   "source": [
    "np.mean(ys,axis=0)/.025"
   ]
  },
  {
   "cell_type": "code",
   "execution_count": null,
   "metadata": {},
   "outputs": [],
   "source": [
    "# np.median(np.mean(ys,axis=0)/.025)"
   ]
  },
  {
   "cell_type": "code",
   "execution_count": null,
   "metadata": {
    "scrolled": false
   },
   "outputs": [],
   "source": [
    "plt.plot(xs[:100])"
   ]
  },
  {
   "cell_type": "code",
   "execution_count": null,
   "metadata": {},
   "outputs": [],
   "source": [
    "plt.plot(xs[:500])"
   ]
  },
  {
   "cell_type": "code",
   "execution_count": null,
   "metadata": {},
   "outputs": [],
   "source": [
    "np.mean(np.abs(xs[1:]-xs[:-1]))"
   ]
  },
  {
   "cell_type": "code",
   "execution_count": null,
   "metadata": {},
   "outputs": [],
   "source": [
    "# tmp=np.mean(relu(np.dot(true_slds.emissions.Cs[0],xs.T)+.1*true_slds.emissions.ds[0][:,None]).T)\n",
    "# mult=.4/tmp\n",
    "# lams=relu(mult*np.dot(true_slds.emissions.Cs[0],xs.T)+.1*true_slds.emissions.ds[0][:,None]).T\n",
    "# ys=np.random.poisson(lams)"
   ]
  },
  {
   "cell_type": "code",
   "execution_count": null,
   "metadata": {},
   "outputs": [],
   "source": [
    "# np.mean(lams)"
   ]
  },
  {
   "cell_type": "code",
   "execution_count": null,
   "metadata": {},
   "outputs": [],
   "source": [
    "# tmp=np.mean(relu(np.dot(true_slds.emissions.Cs[0],xs.T)+.1*true_slds.emissions.ds[0][:,None]).T)"
   ]
  },
  {
   "cell_type": "code",
   "execution_count": null,
   "metadata": {},
   "outputs": [],
   "source": [
    "# np.mean(lams)"
   ]
  },
  {
   "cell_type": "code",
   "execution_count": null,
   "metadata": {},
   "outputs": [],
   "source": [
    "# np.mean((np.dot(true_slds.emissions.Cs[0],xs.T)+.1*true_slds.emissions.ds[0][:,None]).T)"
   ]
  },
  {
   "cell_type": "code",
   "execution_count": null,
   "metadata": {},
   "outputs": [],
   "source": []
  },
  {
   "cell_type": "code",
   "execution_count": null,
   "metadata": {},
   "outputs": [],
   "source": []
  },
  {
   "cell_type": "code",
   "execution_count": null,
   "metadata": {},
   "outputs": [],
   "source": []
  },
  {
   "cell_type": "code",
   "execution_count": null,
   "metadata": {},
   "outputs": [],
   "source": [
    "plt.figure(figsize=(8, 4))\n",
    "plt.subplot(211)\n",
    "plt.imshow(zs[None,:], aspect=\"auto\", cmap=cmap, vmin=0, vmax=len(colors)-1)\n",
    "plt.xlim(0, t_end)\n",
    "plt.ylabel(\"$z_{\\\\mathrm{true}}$\")\n",
    "plt.yticks([])"
   ]
  },
  {
   "cell_type": "code",
   "execution_count": null,
   "metadata": {},
   "outputs": [],
   "source": [
    "plt.plot(zs[1000:1100])"
   ]
  },
  {
   "cell_type": "code",
   "execution_count": null,
   "metadata": {},
   "outputs": [],
   "source": [
    "plt.plot(q_elbos_ar[1:])"
   ]
  },
  {
   "cell_type": "code",
   "execution_count": null,
   "metadata": {},
   "outputs": [],
   "source": [
    "z_inferred=lds_ar.most_likely_states(q_ar.mean_continuous_states[0],ys)\n",
    "\n",
    "lds_ar.permute(find_permutation(zs, z_inferred))\n",
    "# Plot the true and inferred discrete states\n",
    "z_inferred2=lds_ar.most_likely_states(q_ar.mean_continuous_states[0],ys)\n",
    "\n",
    "\n",
    "\n",
    "plt.figure(figsize=(8, 4))\n",
    "plt.subplot(211)\n",
    "plt.imshow(zs[None,:], aspect=\"auto\", cmap=cmap, vmin=0, vmax=len(colors)-1)\n",
    "plt.xlim(0, t_end)\n",
    "plt.ylabel(\"$z_{\\\\mathrm{true}}$\")\n",
    "plt.yticks([])\n",
    "\n",
    "plt.subplot(212)\n",
    "plt.imshow(z_inferred2[None,:], aspect=\"auto\", cmap=cmap, vmin=0, vmax=len(colors)-1)\n",
    "plt.xlim(0, t_end)\n",
    "plt.ylabel(\"$z_{\\\\mathrm{inferred}}$\")\n",
    "plt.yticks([])\n",
    "plt.xlabel(\"time\")\n",
    "\n",
    "plt.tight_layout()"
   ]
  },
  {
   "cell_type": "code",
   "execution_count": null,
   "metadata": {},
   "outputs": [],
   "source": []
  },
  {
   "cell_type": "code",
   "execution_count": null,
   "metadata": {},
   "outputs": [],
   "source": []
  },
  {
   "cell_type": "code",
   "execution_count": null,
   "metadata": {},
   "outputs": [],
   "source": []
  },
  {
   "cell_type": "code",
   "execution_count": null,
   "metadata": {},
   "outputs": [],
   "source": []
  },
  {
   "cell_type": "code",
   "execution_count": null,
   "metadata": {},
   "outputs": [],
   "source": []
  },
  {
   "cell_type": "code",
   "execution_count": null,
   "metadata": {},
   "outputs": [],
   "source": []
  },
  {
   "cell_type": "code",
   "execution_count": null,
   "metadata": {},
   "outputs": [],
   "source": []
  },
  {
   "cell_type": "code",
   "execution_count": null,
   "metadata": {},
   "outputs": [],
   "source": [
    "np.mean(zs==z_inferred2)"
   ]
  },
  {
   "cell_type": "code",
   "execution_count": null,
   "metadata": {},
   "outputs": [],
   "source": [
    "for k in range(K):\n",
    "    norms=get_gr_norms(true_slds.dynamics.As[k])**2\n",
    "    norm_normalized=norms/np.max(norms,axis=1)[:,None]\n",
    "    print(norm_normalized)\n",
    "    print(np.mean((norm_normalized>.1)==A_masks[k]))"
   ]
  },
  {
   "cell_type": "code",
   "execution_count": null,
   "metadata": {},
   "outputs": [],
   "source": [
    "for k in range(K):\n",
    "    norms=get_gr_norms(true_slds.dynamics.As[k])\n",
    "    norm_normalized=norms/np.max(norms,axis=1)[:,None]\n",
    "    print(norm_normalized)"
   ]
  },
  {
   "cell_type": "code",
   "execution_count": null,
   "metadata": {},
   "outputs": [],
   "source": [
    "for k in range(K):\n",
    "    norms=get_gr_norms(true_slds.dynamics.As[k])**2\n",
    "    norm_normalized=norms/np.max(norms,axis=1)[:,None]\n",
    "    print(norm_normalized)\n",
    "    print(np.mean((norm_normalized>.1)==A_masks[k]))"
   ]
  },
  {
   "cell_type": "code",
   "execution_count": null,
   "metadata": {},
   "outputs": [],
   "source": []
  },
  {
   "cell_type": "code",
   "execution_count": null,
   "metadata": {},
   "outputs": [],
   "source": [
    "for k in range(K):\n",
    "    norms=get_gr_means(true_slds.dynamics.As[k])\n",
    "#     norm_normalized=norms/np.max(norms,axis=1)[:,None]\n",
    "    print(norms)\n",
    "#     print(np.mean((norm_normalized>.1)==A_masks[k]))"
   ]
  },
  {
   "cell_type": "code",
   "execution_count": null,
   "metadata": {},
   "outputs": [],
   "source": [
    "for k in range(K):\n",
    "    norms=get_gr_means(lds_ar.dynamics.As[k])\n",
    "#     norm_normalized=norms/np.max(norms,axis=1)[:,None]\n",
    "    print(norms)\n",
    "#     print(np.mean((norm_normalized>.1)==A_masks[k]))"
   ]
  },
  {
   "cell_type": "code",
   "execution_count": null,
   "metadata": {},
   "outputs": [],
   "source": [
    "alphas"
   ]
  },
  {
   "cell_type": "code",
   "execution_count": null,
   "metadata": {},
   "outputs": [],
   "source": [
    "# for k in range(K):\n",
    "#     norms=get_gr_norms(lds_ar.dynamics.As[k])\n",
    "#     norm_normalized=norms/np.max(norms,axis=1)[:,None]\n",
    "#     print(norm_normalized)\n",
    "#     print(np.mean((norm_normalized>.1)==A_masks[k]))"
   ]
  },
  {
   "cell_type": "code",
   "execution_count": null,
   "metadata": {},
   "outputs": [],
   "source": []
  },
  {
   "cell_type": "code",
   "execution_count": null,
   "metadata": {},
   "outputs": [],
   "source": [
    "for k in range(K):\n",
    "    norms=get_gr_norms(lds_ar.dynamics.As[k])**2\n",
    "    norm_normalized=norms/np.max(norms,axis=1)[:,None]\n",
    "    print(norm_normalized)\n",
    "    print(np.mean((norm_normalized>.1)==A_masks[k]))"
   ]
  },
  {
   "cell_type": "code",
   "execution_count": null,
   "metadata": {},
   "outputs": [],
   "source": [
    "stdevs=np.std(np.vstack(q_ar.mean_continuous_states),axis=0)\n",
    "\n",
    "for k in range(K):\n",
    "    norms=get_gr_norms(lds_ar.dynamics.As[k]*stdevs[:,None]/stdevs[:,None].T)**2\n",
    "    norm_normalized=norms/np.max(norms,axis=1)[:,None]\n",
    "    print(norm_normalized)\n",
    "    print(np.mean((norm_normalized>.1)==A_masks[k]))\n"
   ]
  },
  {
   "cell_type": "code",
   "execution_count": null,
   "metadata": {},
   "outputs": [],
   "source": []
  },
  {
   "cell_type": "code",
   "execution_count": null,
   "metadata": {},
   "outputs": [],
   "source": [
    "# def get_gr_norms2(A):\n",
    "#     AI=A\n",
    "#     norms=np.zeros([num_gr,num_gr])\n",
    "#     for i in range(num_gr):\n",
    "#         for j in range(num_gr):\n",
    "#             norms[i,j]=np.linalg.norm(AI[D_vec_cumsum[i]:D_vec_cumsum[i+1],D_vec_cumsum[j]:D_vec_cumsum[j+1]])\n",
    "#     return norms"
   ]
  },
  {
   "cell_type": "code",
   "execution_count": null,
   "metadata": {},
   "outputs": [],
   "source": [
    "# stdevs=np.std(np.vstack(q_ar.mean_continuous_states),axis=0)\n",
    "# # stdevs=np.mean(np.abs(np.vstack(q_lem.mean_continuous_states)),axis=0)\n",
    "\n",
    "# A_adjust=[]\n",
    "# for k in range(K):\n",
    "#     A_adjust.append((lds_ar.dynamics.As[k]-np.identity(D))*stdevs)\n",
    "#     A_adjust.append((lds_ar.dynamics.As[k]-np.identity(D))*stdevs)\n",
    "    \n",
    "# for k in range(K):\n",
    "#     norms=get_gr_norms2(A_adjust[k])**2\n",
    "#     norm_normalized=norms/np.max(norms,axis=1)[:,None]\n",
    "# #     print(norms)\n",
    "#     print(norm_normalized)\n",
    "#     print(np.mean((norm_normalized>.1)==A_masks[k]))"
   ]
  },
  {
   "cell_type": "code",
   "execution_count": null,
   "metadata": {},
   "outputs": [],
   "source": []
  },
  {
   "cell_type": "code",
   "execution_count": null,
   "metadata": {},
   "outputs": [],
   "source": [
    "for k in range(K):\n",
    "    plt.figure()\n",
    "    plt.imshow(lds_ar.dynamics.As[k], aspect='auto', interpolation=\"none\", vmin=-.5, vmax=.5, cmap='RdBu')\n",
    "    \n",
    "    plt.figure()\n",
    "    plt.imshow(true_slds.dynamics.As[k], aspect='auto', interpolation=\"none\", vmin=-.5, vmax=.5, cmap='RdBu')\n",
    "    "
   ]
  },
  {
   "cell_type": "code",
   "execution_count": null,
   "metadata": {},
   "outputs": [],
   "source": []
  },
  {
   "cell_type": "code",
   "execution_count": null,
   "metadata": {},
   "outputs": [],
   "source": []
  },
  {
   "cell_type": "code",
   "execution_count": null,
   "metadata": {},
   "outputs": [],
   "source": [
    "z_inferred2"
   ]
  },
  {
   "cell_type": "code",
   "execution_count": null,
   "metadata": {},
   "outputs": [],
   "source": [
    "trans_time_list=[]\n",
    "for i in range(K):\n",
    "    tt=[]\n",
    "    for j in range(K):       \n",
    "        tt.append(np.where((z_inferred2[:-1]==i) * (z_inferred2[1:]==j))[0])\n",
    "    trans_time_list.append(tt)\n",
    "    \n",
    "# trans_time_list=[]\n",
    "# for i in range(K):\n",
    "#     tt=[]\n",
    "#     for j in range(K):       \n",
    "#         tt.append(np.where((zs[:-1]==i) * (zs[1:]==j))[0])\n",
    "#     trans_time_list.append(tt)"
   ]
  },
  {
   "cell_type": "code",
   "execution_count": null,
   "metadata": {},
   "outputs": [],
   "source": [
    "num_trans=np.zeros([K,K])\n",
    "for i in range(K):\n",
    "    for j in range(K):\n",
    "        num_trans[i,j]=trans_time_list[i][j].shape[0]"
   ]
  },
  {
   "cell_type": "code",
   "execution_count": null,
   "metadata": {},
   "outputs": [],
   "source": [
    "num_trans"
   ]
  },
  {
   "cell_type": "code",
   "execution_count": null,
   "metadata": {},
   "outputs": [],
   "source": [
    "num_trans"
   ]
  },
  {
   "cell_type": "code",
   "execution_count": null,
   "metadata": {},
   "outputs": [],
   "source": [
    "i=1\n",
    "j=0\n",
    "np.dot(q_ar.mean_continuous_states[0][trans_time_list[i][j],:],lds_ar.transitions.Rs[j].T)"
   ]
  },
  {
   "cell_type": "code",
   "execution_count": null,
   "metadata": {},
   "outputs": [],
   "source": [
    "g=0\n",
    "i=1\n",
    "j=0\n",
    "np.dot(q_ar.mean_continuous_states[0][trans_time_list[i][j],D_vec_cumsum[g]:D_vec_cumsum[g+1]],lds_ar.transitions.Rs[j,D_vec_cumsum[g]:D_vec_cumsum[g+1]].T)"
   ]
  },
  {
   "cell_type": "code",
   "execution_count": null,
   "metadata": {},
   "outputs": [],
   "source": [
    "g=2\n",
    "i=2\n",
    "j=0\n",
    "np.mean(np.exp(np.dot(q_ar.mean_continuous_states[0][trans_time_list[i][j],D_vec_cumsum[g]:D_vec_cumsum[g+1]],lds_ar.transitions.Rs[j,D_vec_cumsum[g]:D_vec_cumsum[g+1]].T)))"
   ]
  },
  {
   "cell_type": "code",
   "execution_count": null,
   "metadata": {},
   "outputs": [],
   "source": [
    "val_vals=[]\n",
    "for j in range(K):\n",
    "    vals=[]\n",
    "    for g in range(num_gr):\n",
    "        val=0\n",
    "        for i in range(K):\n",
    "            if i!=j:\n",
    "                val=val+np.mean(np.exp(np.dot(q_ar.mean_continuous_states[0][trans_time_list[i][j],D_vec_cumsum[g]:D_vec_cumsum[g+1]],lds_ar.transitions.Rs[j,D_vec_cumsum[g]:D_vec_cumsum[g+1]].T)))\n",
    "        vals.append(val)\n",
    "    val_vals.append(vals)"
   ]
  },
  {
   "cell_type": "code",
   "execution_count": null,
   "metadata": {},
   "outputs": [],
   "source": [
    "val_vals"
   ]
  },
  {
   "cell_type": "code",
   "execution_count": null,
   "metadata": {},
   "outputs": [],
   "source": [
    "val_vals2=[]\n",
    "for j in range(K):\n",
    "    vals=[]\n",
    "    for g in range(num_gr):\n",
    "        val=0\n",
    "        for i in range(K):\n",
    "            if i==j:\n",
    "                val=val+np.mean(np.exp(np.dot(q_ar.mean_continuous_states[0][trans_time_list[i][j],D_vec_cumsum[g]:D_vec_cumsum[g+1]],lds_ar.transitions.R2s[j,D_vec_cumsum[g]:D_vec_cumsum[g+1]].T)))\n",
    "        vals.append(val)\n",
    "    val_vals2.append(vals)"
   ]
  },
  {
   "cell_type": "code",
   "execution_count": null,
   "metadata": {},
   "outputs": [],
   "source": [
    "val_vals2"
   ]
  },
  {
   "cell_type": "code",
   "execution_count": null,
   "metadata": {},
   "outputs": [],
   "source": [
    "np.mean(np.argmax(np.array(val_vals),axis=1)==np.array([0,1,2]))"
   ]
  },
  {
   "cell_type": "code",
   "execution_count": null,
   "metadata": {},
   "outputs": [],
   "source": []
  },
  {
   "cell_type": "code",
   "execution_count": null,
   "metadata": {},
   "outputs": [],
   "source": [
    "g=2\n",
    "i=2\n",
    "j=2\n",
    "np.mean(np.exp(np.dot(q_ar.mean_continuous_states[0][trans_time_list[i][j],D_vec_cumsum[g]:D_vec_cumsum[g+1]],lds_ar.transitions.R2s[i,D_vec_cumsum[g]:D_vec_cumsum[g+1]].T)))"
   ]
  },
  {
   "cell_type": "code",
   "execution_count": null,
   "metadata": {},
   "outputs": [],
   "source": [
    "lds_ar.transitions.Rs"
   ]
  },
  {
   "cell_type": "code",
   "execution_count": null,
   "metadata": {},
   "outputs": [],
   "source": [
    "lds_ar.transitions.R2s"
   ]
  },
  {
   "cell_type": "code",
   "execution_count": null,
   "metadata": {},
   "outputs": [],
   "source": [
    "# z_exp=lds_ar.most_likely_states(q_ar.mean_continuous_states[0],ys)"
   ]
  },
  {
   "cell_type": "code",
   "execution_count": null,
   "metadata": {},
   "outputs": [],
   "source": [
    "from sklearn.preprocessing import OneHotEncoder"
   ]
  },
  {
   "cell_type": "code",
   "execution_count": null,
   "metadata": {},
   "outputs": [],
   "source": [
    "enc=OneHotEncoder(sparse=False)\n",
    "z_exp=enc.fit_transform(z_inferred2[:,None]).T"
   ]
  },
  {
   "cell_type": "code",
   "execution_count": null,
   "metadata": {},
   "outputs": [],
   "source": [
    "# exp_diff=np.abs(z_exp[0][1:]-z_exp[0][:-1])\n",
    "exp_diff=np.abs(z_exp[0][1:]-z_exp[0][:-1])"
   ]
  },
  {
   "cell_type": "code",
   "execution_count": null,
   "metadata": {},
   "outputs": [],
   "source": [
    "z_exp"
   ]
  },
  {
   "cell_type": "code",
   "execution_count": null,
   "metadata": {},
   "outputs": [],
   "source": [
    "i=0\n",
    "exp_diff=np.abs(z_exp[i,1:]-z_exp[i,:-1])"
   ]
  },
  {
   "cell_type": "code",
   "execution_count": null,
   "metadata": {},
   "outputs": [],
   "source": [
    "from sklearn.linear_model import LogisticRegression\n",
    "from sklearn.linear_model import LinearRegression"
   ]
  },
  {
   "cell_type": "code",
   "execution_count": null,
   "metadata": {},
   "outputs": [],
   "source": [
    "logr=LogisticRegression()\n",
    "logr.fit(q_ar.mean_continuous_states[0][:-1],exp_diff)\n"
   ]
  },
  {
   "cell_type": "code",
   "execution_count": null,
   "metadata": {},
   "outputs": [],
   "source": [
    "logr.coef_"
   ]
  },
  {
   "cell_type": "code",
   "execution_count": null,
   "metadata": {},
   "outputs": [],
   "source": [
    "lds_ar.transitions.Rs[0]"
   ]
  },
  {
   "cell_type": "code",
   "execution_count": null,
   "metadata": {},
   "outputs": [],
   "source": [
    "lr=LinearRegression()\n",
    "exp_diff2=1-np.abs(exp_diff-.99)\n",
    "lr.fit(q_ar.mean_continuous_states[0][:-1],exp_diff2)"
   ]
  },
  {
   "cell_type": "code",
   "execution_count": null,
   "metadata": {},
   "outputs": [],
   "source": [
    "lr.coef_"
   ]
  },
  {
   "cell_type": "code",
   "execution_count": null,
   "metadata": {},
   "outputs": [],
   "source": []
  },
  {
   "cell_type": "code",
   "execution_count": null,
   "metadata": {},
   "outputs": [],
   "source": []
  },
  {
   "cell_type": "code",
   "execution_count": null,
   "metadata": {},
   "outputs": [],
   "source": [
    "exp_diff.shape"
   ]
  },
  {
   "cell_type": "code",
   "execution_count": null,
   "metadata": {},
   "outputs": [],
   "source": [
    "true_slds.transitions.R2s"
   ]
  },
  {
   "cell_type": "code",
   "execution_count": null,
   "metadata": {},
   "outputs": [],
   "source": [
    "true_slds.transitions.Rs"
   ]
  },
  {
   "cell_type": "code",
   "execution_count": null,
   "metadata": {},
   "outputs": [],
   "source": []
  },
  {
   "cell_type": "code",
   "execution_count": null,
   "metadata": {},
   "outputs": [],
   "source": [
    "np.dot(q_ar.mean_continuous_states[0][trans_time_list[i][j],:],lds_ar.transitions.Rs[2].T)"
   ]
  },
  {
   "cell_type": "code",
   "execution_count": null,
   "metadata": {},
   "outputs": [],
   "source": [
    "lds_ar.transitions.log_Ps"
   ]
  },
  {
   "cell_type": "code",
   "execution_count": null,
   "metadata": {},
   "outputs": [],
   "source": []
  },
  {
   "cell_type": "code",
   "execution_count": null,
   "metadata": {},
   "outputs": [],
   "source": [
    "j=0\n",
    "np.dot(lds_ar.transitions.Rs[j],"
   ]
  },
  {
   "cell_type": "code",
   "execution_count": null,
   "metadata": {},
   "outputs": [],
   "source": [
    "trans_time_list[0][0]"
   ]
  },
  {
   "cell_type": "code",
   "execution_count": null,
   "metadata": {},
   "outputs": [],
   "source": []
  },
  {
   "cell_type": "code",
   "execution_count": null,
   "metadata": {},
   "outputs": [],
   "source": [
    "stop"
   ]
  },
  {
   "cell_type": "code",
   "execution_count": null,
   "metadata": {},
   "outputs": [],
   "source": []
  },
  {
   "cell_type": "code",
   "execution_count": null,
   "metadata": {},
   "outputs": [],
   "source": [
    "z_inferred2[1:].shape"
   ]
  },
  {
   "cell_type": "code",
   "execution_count": null,
   "metadata": {},
   "outputs": [],
   "source": [
    "dyn_ll=lds_ar.dynamics.log_likelihoods(q_ar.mean_continuous_states[0],np.zeros([q_ar.mean_continuous_states[0].shape[0],1]),np.ones(q_ar.mean_continuous_states[0].shape),None)"
   ]
  },
  {
   "cell_type": "code",
   "execution_count": null,
   "metadata": {},
   "outputs": [],
   "source": [
    "for k in range(3):\n",
    "    inc=(z_inferred2[1:]==k)\n",
    "    inc_idx=np.where(inc)[0]+1\n",
    "    print(np.sum(dyn_ll[inc_idx],axis=0))"
   ]
  },
  {
   "cell_type": "code",
   "execution_count": null,
   "metadata": {},
   "outputs": [],
   "source": [
    "lds_ar.emissions.log_likelihoods(ys,np.zeros([ys.shape[0],0]),np.ones(ys.shape),None,q_ar.mean_continuous_states[0])[:10]"
   ]
  },
  {
   "cell_type": "code",
   "execution_count": null,
   "metadata": {},
   "outputs": [],
   "source": [
    "from sklearn.model_selection import KFold\n",
    "from sklearn.linear_model import LinearRegression"
   ]
  },
  {
   "cell_type": "code",
   "execution_count": null,
   "metadata": {},
   "outputs": [],
   "source": [
    "num_cv_folds=2\n",
    "kf = KFold(n_splits=num_cv_folds)\n",
    "####1. REFIT A WITH MASK####\n",
    "#with ridge regression?\n",
    "\n",
    "####2. Do CV Loop #####\n",
    "\n",
    "##Get indices of discrete state\n",
    "\n",
    "k=0\n",
    "inc=(z_inferred2[1:]==k)\n",
    "inc_idx=np.where(inc)[0]+1\n",
    "X=q_ar.mean_continuous_states[0][inc_idx-1]\n",
    "Y=q_ar.mean_continuous_states[0][inc_idx]\n",
    "# inc=(z_inferred2[:-1]==k)\n",
    "# inc_idx=np.where(inc)[0]\n",
    "# X=q_ar.mean_continuous_states[0][inc_idx]\n",
    "# Y=q_ar.mean_continuous_states[0][inc_idx+1]\n",
    "\n",
    "# for train_index, test_index in kf.split(X):\n",
    "for test_index, train_index in kf.split(X):\n",
    "    X_train=X[train_index]\n",
    "    X_test=X[test_index]\n",
    "    Y_train_all=Y[train_index]\n",
    "    Y_test_all=Y[test_index]\n",
    "    \n",
    "    ys_act=ys[inc_idx,:][test_index]\n",
    "\n",
    "\n",
    "    lr0=LinearRegression()\n",
    "    lr0.fit(X_train,Y_train_all)\n",
    "    Ypred_all=lr0.predict(X_test)\n",
    "    \n",
    "    print(\"all_ll\",np.sum(lds_ar.emissions.log_likelihoods(ys_act,np.zeros([ys_act.shape[0],0]),np.ones([ys_act.shape[0],ys.shape[1]]),None,Ypred_all)))\n",
    "    \n",
    "    g1=1\n",
    "    Y_train=Y_train_all[:,D_vec_cumsum[g1]:D_vec_cumsum[g1+1]]\n",
    "    Y_test=Y_test_all[:,D_vec_cumsum[g1]:D_vec_cumsum[g1+1]]\n",
    "    \n",
    "    lr=LinearRegression()\n",
    "    lr.fit(X_train,Y_train)\n",
    "    print(\"all\",lr.score(X_test,Y_test))\n",
    "\n",
    "    \n",
    "    g2=0\n",
    "    include=np.arange(D)\n",
    "    include=np.delete(include,np.arange(D_vec_cumsum[g2],D_vec_cumsum[g2+1]))\n",
    "#     g2_2=1\n",
    "#     include=np.delete(include,np.arange(D_vec_cumsum[g2_2],D_vec_cumsum[g2_2+1]))\n",
    "    \n",
    "    lr2=LinearRegression()\n",
    "    lr2.fit(X_train[:,include],Y_train)\n",
    "    print(g2,lr2.score(X_test[:,include],Y_test))\n",
    "    \n",
    "    \n",
    "    Ypred=np.copy(Ypred_all)\n",
    "    Ypred[:,D_vec_cumsum[g1]:D_vec_cumsum[g1+1]]=lr2.predict(X_test[:,include])\n",
    "    print(\"new_ll\",np.sum(lds_ar.emissions.log_likelihoods(ys_act,np.zeros([ys_act.shape[0],0]),np.ones([ys_act.shape[0],ys.shape[1]]),None,Ypred)))\n",
    "    print('')\n",
    "    \n",
    "    \n",
    "    \n",
    "# -Split each discrete state into CV folds\n",
    "# -Fit new A based on threshold (one at a time?), using that training data\n",
    "# -Determine testset:\n",
    "#     1) Dynamics SSE\n",
    "#     2) Dynamics LL\n",
    "#     3) Emissions LL"
   ]
  },
  {
   "cell_type": "code",
   "execution_count": null,
   "metadata": {},
   "outputs": [],
   "source": []
  },
  {
   "cell_type": "markdown",
   "metadata": {},
   "source": [
    "## Plots"
   ]
  },
  {
   "cell_type": "code",
   "execution_count": null,
   "metadata": {},
   "outputs": [],
   "source": [
    "plt.figure(figsize=(8, 4))\n",
    "plt.subplot(211)\n",
    "plt.imshow(zs[None,:], aspect=\"auto\", cmap=cmap, vmin=0, vmax=len(colors)-1)\n",
    "plt.xlim(0, t_end)\n",
    "plt.ylabel(\"$z_{\\\\mathrm{true}}$\")\n",
    "plt.yticks([])\n",
    "\n",
    "plt.subplot(212)\n",
    "plt.imshow(z_inferred2[None,:], aspect=\"auto\", cmap=cmap, vmin=0, vmax=len(colors)-1)\n",
    "plt.xlim(0, t_end)\n",
    "plt.ylabel(\"$z_{\\\\mathrm{inferred}}$\")\n",
    "plt.yticks([])\n",
    "plt.xlabel(\"time\")\n",
    "\n",
    "plt.tight_layout()"
   ]
  },
  {
   "cell_type": "code",
   "execution_count": null,
   "metadata": {},
   "outputs": [],
   "source": [
    "D_vec"
   ]
  },
  {
   "cell_type": "code",
   "execution_count": null,
   "metadata": {},
   "outputs": [],
   "source": []
  },
  {
   "cell_type": "code",
   "execution_count": null,
   "metadata": {},
   "outputs": [],
   "source": [
    "for k in range(K):\n",
    "    plt.figure(figsize=(4,4))\n",
    "    plt.imshow(lds_ar.dynamics.As[k], aspect='auto', interpolation=\"none\", vmin=-.5, vmax=.5, cmap='RdBu')\n",
    "    offset=-.5\n",
    "    for nf in D_vec:        \n",
    "        plt.plot([-0.5, D-0.5], [offset, offset], '-k')\n",
    "        plt.plot([offset, offset], [-0.5, D-0.5], '-k')\n",
    "        offset += nf\n",
    "    plt.xticks([])\n",
    "    plt.yticks([])\n",
    "#     plt.savefig(folder+'dyn_est'+str(k)+'.pdf')\n",
    "    \n",
    "    plt.figure(figsize=(4,4))\n",
    "    plt.imshow(true_slds.dynamics.As[k], aspect='auto', interpolation=\"none\", vmin=-.5, vmax=.5, cmap='RdBu')\n",
    "    offset=-.5\n",
    "    for nf in D_vec:        \n",
    "        plt.plot([-0.5, D-0.5], [offset, offset], '-k')\n",
    "        plt.plot([offset, offset], [-0.5, D-0.5], '-k')\n",
    "        offset += nf\n",
    "    plt.xticks([])\n",
    "    plt.yticks([])\n",
    "#     plt.savefig(folder+'dyn_true'+str(k)+'.pdf')"
   ]
  },
  {
   "cell_type": "code",
   "execution_count": null,
   "metadata": {},
   "outputs": [],
   "source": []
  },
  {
   "cell_type": "code",
   "execution_count": null,
   "metadata": {},
   "outputs": [],
   "source": [
    "plt.figure(figsize=(8, 4))\n",
    "plt.subplot(211)\n",
    "plt.imshow(zs[None,:], aspect=\"auto\", cmap=cmap, vmin=0, vmax=len(colors)-1)\n",
    "plt.xlim(0, t_end)\n",
    "plt.ylabel(\"$z_{\\\\mathrm{true}}$\")\n",
    "plt.yticks([])\n",
    "\n",
    "plt.subplot(212)\n",
    "plt.imshow(z_inferred2[None,:], aspect=\"auto\", cmap=cmap, vmin=0, vmax=len(colors)-1)\n",
    "plt.xlim(0, t_end)\n",
    "plt.ylabel(\"$z_{\\\\mathrm{inferred}}$\")\n",
    "plt.yticks([])\n",
    "plt.xlabel(\"time\")\n",
    "\n",
    "plt.tight_layout()"
   ]
  },
  {
   "cell_type": "code",
   "execution_count": null,
   "metadata": {},
   "outputs": [],
   "source": [
    "q_ar.mean_continuous_states[0][trans_time_list[i][j],D_vec_cumsum[g]:D_vec_cumsum[g+1]],lds_ar.transitions.Rs[j,D_vec_cumsum[g]:D_vec_cumsum[g+1]].T)))"
   ]
  },
  {
   "cell_type": "code",
   "execution_count": null,
   "metadata": {},
   "outputs": [],
   "source": [
    "folder='/Users/jig289/Dropbox/PD/neurips_figs/'"
   ]
  },
  {
   "cell_type": "code",
   "execution_count": null,
   "metadata": {},
   "outputs": [],
   "source": [
    "folder='/Users/jig289/Dropbox/PD/neurips_figs/'\n",
    "import matplotlib\n",
    "matplotlib.rcParams['pdf.fonttype'] = 42\n"
   ]
  },
  {
   "cell_type": "code",
   "execution_count": null,
   "metadata": {},
   "outputs": [],
   "source": [
    "dur=200\n",
    "st_t=650 #2050 #450?\n",
    "end_t=st_t+dur\n",
    "\n",
    "plt.figure(figsize=(4, 2))\n",
    "plt.subplot(211)\n",
    "plt.imshow(zs[None,st_t:end_t], aspect=\"auto\", cmap=cmap, vmin=0, vmax=len(colors)-1)\n",
    "plt.xlim(0, dur)\n",
    "plt.ylabel(\"$z_{\\\\mathrm{true}}$\")\n",
    "plt.yticks([])\n",
    "plt.xticks([])\n",
    "\n",
    "plt.subplot(212)\n",
    "plt.imshow(z_inferred2[None,st_t:end_t], aspect=\"auto\", cmap=cmap, vmin=0, vmax=len(colors)-1)\n",
    "plt.xlim(0, dur)\n",
    "plt.ylabel(\"$z_{\\\\mathrm{inferred}}$\")\n",
    "plt.yticks([])\n",
    "\n",
    "# plt.xlabel(\"time\")\n",
    "\n",
    "# plt.tight_layout()\n",
    "# plt.savefig(folder+'sim_disc_states.pdf')"
   ]
  },
  {
   "cell_type": "code",
   "execution_count": null,
   "metadata": {},
   "outputs": [],
   "source": [
    "plt.figure(figsize=(8, 4))\n",
    "\n",
    "j=0\n",
    "\n",
    "plt.subplot(211)\n",
    "for g in range(K):\n",
    "    plt.plot(np.dot(xs[st_t:end_t,D_vec_cumsum[g]:D_vec_cumsum[g+1]],true_slds.transitions.Rs[j,D_vec_cumsum[g]:D_vec_cumsum[g+1]].T))\n",
    "plt.xlim(0, dur)\n",
    "plt.ylabel('Switch to blue')\n",
    "plt.xticks([])\n",
    "plt.yticks([])\n",
    "\n",
    "j=1\n",
    "plt.subplot(212)\n",
    "for g in range(K):\n",
    "    plt.plot(np.dot(xs[st_t:end_t,D_vec_cumsum[g]:D_vec_cumsum[g+1]],true_slds.transitions.Rs[j,D_vec_cumsum[g]:D_vec_cumsum[g+1]].T))\n",
    "plt.xlim(0, dur)\n",
    "plt.ylabel('Stay in Red')\n",
    "plt.legend(['Pop 1','Pop 2','Pop 3'])\n",
    "plt.yticks([])\n",
    "\n",
    "# plt.subplot(313)\n",
    "# for g in range(K):\n",
    "#     plt.plot(np.dot(xs[st_t:end_t,D_vec_cumsum[g]:D_vec_cumsum[g+1]],true_slds.transitions.R2s[j,D_vec_cumsum[g]:D_vec_cumsum[g+1]].T))\n",
    "# plt.xlim(0, dur)\n",
    "\n",
    "# plt.savefig(folder+'sim_trans.pdf')"
   ]
  },
  {
   "cell_type": "code",
   "execution_count": null,
   "metadata": {},
   "outputs": [],
   "source": [
    "plt.figure(figsize=(8, 4))\n",
    "\n",
    "j=0\n",
    "\n",
    "plt.subplot(211)\n",
    "for g in range(K):\n",
    "    plt.plot(np.dot(q_ar.mean_continuous_states[0][st_t:end_t,D_vec_cumsum[g]:D_vec_cumsum[g+1]],lds_ar.transitions.Rs[j,D_vec_cumsum[g]:D_vec_cumsum[g+1]].T))\n",
    "plt.xlim(0, dur)\n",
    "# plt.ylabel('Switch to blue')\n",
    "plt.xticks([])\n",
    "plt.yticks([])\n",
    "\n",
    "j=1\n",
    "plt.subplot(212)\n",
    "for g in range(K):\n",
    "    plt.plot(np.dot(q_ar.mean_continuous_states[0][st_t:end_t,D_vec_cumsum[g]:D_vec_cumsum[g+1]],lds_ar.transitions.Rs[j,D_vec_cumsum[g]:D_vec_cumsum[g+1]].T))\n",
    "plt.xlim(0, dur)\n",
    "# plt.ylabel('Stay in Red')\n",
    "plt.xticks([])\n",
    "plt.yticks([])\n",
    "# plt.legend(['Pop 1','Pop 2','Pop 3'],loc='right')\n",
    "\n",
    "# plt.subplot(313)\n",
    "# for g in range(K):\n",
    "#     plt.plot(np.dot(q_ar.mean_continuous_states[0][st_t:end_t,D_vec_cumsum[g]:D_vec_cumsum[g+1]],lds_ar.transitions.R2s[j,D_vec_cumsum[g]:D_vec_cumsum[g+1]].T))\n",
    "# plt.xlim(0, dur)\n",
    "# plt.savefig(folder+'sim_trans_est.pdf')"
   ]
  },
  {
   "cell_type": "code",
   "execution_count": null,
   "metadata": {},
   "outputs": [],
   "source": []
  },
  {
   "cell_type": "code",
   "execution_count": null,
   "metadata": {},
   "outputs": [],
   "source": []
  },
  {
   "cell_type": "markdown",
   "metadata": {},
   "source": [
    "# Test set"
   ]
  },
  {
   "cell_type": "code",
   "execution_count": null,
   "metadata": {},
   "outputs": [],
   "source": [
    "lds_ar2=copy.deepcopy(lds_ar)\n",
    "# lds_ar2.dynamics.bs=true_slds.dynamics.bs\n",
    "lds_ar2.dynamics.As=true_slds.dynamics.As"
   ]
  },
  {
   "cell_type": "code",
   "execution_count": null,
   "metadata": {},
   "outputs": [],
   "source": [
    "z_inferred_test=lds_ar.most_likely_states(tmp[1].mean_continuous_states[0],ys_test)\n",
    "\n",
    "# z_inferred_test=lds_ar.most_likely_states(xs_test,ys_test)\n",
    "\n",
    "# z_inferred_test=true_slds.most_likely_states(tmp[1].mean_continuous_states[0],ys_test)\n",
    "# z_inferred_test=lds_ar2.most_likely_states(tmp[1].mean_continuous_states[0],ys_test)\n",
    "\n",
    "\n",
    "lds_ar.permute(find_permutation(zs_test, z_inferred_test))\n",
    "# Plot the true and inferred discrete states\n",
    "z_inferred_test2=lds_ar.most_likely_states(tmp[1].mean_continuous_states[0],ys_test)\n",
    "# z_inferred_test2=lds_ar.most_likely_states(xs_test,ys_test)\n"
   ]
  },
  {
   "cell_type": "code",
   "execution_count": null,
   "metadata": {},
   "outputs": [],
   "source": [
    "z_inferred_test=lds_sp.most_likely_states(tmp[1].mean_continuous_states[0],ys_test)\n",
    "lds_sp.permute(find_permutation(zs_test, z_inferred_test))\n",
    "z_inferred_test2=lds_sp.most_likely_states(tmp[1].mean_continuous_states[0],ys_test)\n"
   ]
  },
  {
   "cell_type": "code",
   "execution_count": null,
   "metadata": {},
   "outputs": [],
   "source": [
    "np.mean(z_inferred_test==zs_test)"
   ]
  },
  {
   "cell_type": "code",
   "execution_count": null,
   "metadata": {},
   "outputs": [],
   "source": [
    "np.mean(z_inferred_test2==zs_test)"
   ]
  },
  {
   "cell_type": "code",
   "execution_count": null,
   "metadata": {},
   "outputs": [],
   "source": [
    "z_inferred_test3=np.argmax(tmp[1].mean_discrete_states[0],axis=1)"
   ]
  },
  {
   "cell_type": "code",
   "execution_count": null,
   "metadata": {},
   "outputs": [],
   "source": [
    "np.mean(z_inferred_test3==zs_test)"
   ]
  },
  {
   "cell_type": "code",
   "execution_count": null,
   "metadata": {},
   "outputs": [],
   "source": [
    "plt.figure(figsize=(8, 4))\n",
    "plt.subplot(211)\n",
    "plt.imshow(zs_test[None,:], aspect=\"auto\", cmap=cmap, vmin=0, vmax=len(colors)-1)\n",
    "plt.xlim(0, t_end)\n",
    "plt.ylabel(\"$z_{\\\\mathrm{true}}$\")\n",
    "plt.yticks([])\n",
    "\n",
    "plt.subplot(212)\n",
    "plt.imshow(z_inferred_test2[None,:], aspect=\"auto\", cmap=cmap, vmin=0, vmax=len(colors)-1)\n",
    "plt.xlim(0, t_end)\n",
    "plt.ylabel(\"$z_{\\\\mathrm{inferred}}$\")\n",
    "plt.yticks([])\n",
    "plt.xlabel(\"time\")\n",
    "\n",
    "plt.tight_layout()"
   ]
  },
  {
   "cell_type": "code",
   "execution_count": null,
   "metadata": {},
   "outputs": [],
   "source": []
  },
  {
   "cell_type": "code",
   "execution_count": null,
   "metadata": {},
   "outputs": [],
   "source": [
    "\n",
    "####1. REFIT A WITH MASK####\n",
    "#with ridge regression?\n",
    "\n",
    "##Get indices of discrete state\n",
    "\n",
    "k=1\n",
    "\n",
    "inc=(z_inferred2[1:]==k)\n",
    "inc_idx=np.where(inc)[0]+1\n",
    "X_train=q_ar.mean_continuous_states[0][inc_idx-1]\n",
    "Y_train_all=q_ar.mean_continuous_states[0][inc_idx]\n",
    "\n",
    "\n",
    "inc=(z_inferred_test3[1:]==k)\n",
    "inc_idx=np.where(inc)[0]+1\n",
    "X_test=tmp[1].mean_continuous_states[0][inc_idx-1]\n",
    "Y_test_all=tmp[1].mean_continuous_states[0][inc_idx]\n",
    "\n",
    "\n",
    "\n",
    "    \n",
    "ys_act=ys_test[inc_idx,:]\n",
    "\n",
    "\n",
    "lr0=LinearRegression()\n",
    "lr0.fit(X_train,Y_train_all)\n",
    "Ypred_all=lr0.predict(X_test)\n",
    "\n",
    "print(\"all_ll\",np.sum(lds_ar.emissions.log_likelihoods(ys_act,np.zeros([ys_act.shape[0],0]),np.ones([ys_act.shape[0],ys_act.shape[1]]),None,Ypred_all)))\n",
    "\n",
    "g1=0\n",
    "Y_train=Y_train_all[:,D_vec_cumsum[g1]:D_vec_cumsum[g1+1]]\n",
    "Y_test=Y_test_all[:,D_vec_cumsum[g1]:D_vec_cumsum[g1+1]]\n",
    "\n",
    "lr=LinearRegression()\n",
    "lr.fit(X_train,Y_train)\n",
    "print(\"all\",lr.score(X_test,Y_test))\n",
    "\n",
    "\n",
    "g2=1\n",
    "include=np.arange(D)\n",
    "include=np.delete(include,np.arange(D_vec_cumsum[g2],D_vec_cumsum[g2+1]))\n",
    "#     g2_2=1\n",
    "#     include=np.delete(include,np.arange(D_vec_cumsum[g2_2],D_vec_cumsum[g2_2+1]))\n",
    "\n",
    "lr2=LinearRegression()\n",
    "lr2.fit(X_train[:,include],Y_train)\n",
    "print(g2,lr2.score(X_test[:,include],Y_test))\n",
    "\n",
    "\n",
    "Ypred=np.copy(Ypred_all)\n",
    "Ypred[:,D_vec_cumsum[g1]:D_vec_cumsum[g1+1]]=lr2.predict(X_test[:,include])\n",
    "print(\"new_ll\",np.sum(lds_ar.emissions.log_likelihoods(ys_act,np.zeros([ys_act.shape[0],0]),np.ones([ys_act.shape[0],ys_act.shape[1]]),None,Ypred)))\n",
    "print('')\n",
    "\n",
    "    \n"
   ]
  },
  {
   "cell_type": "code",
   "execution_count": null,
   "metadata": {},
   "outputs": [],
   "source": []
  },
  {
   "cell_type": "code",
   "execution_count": null,
   "metadata": {},
   "outputs": [],
   "source": [
    "for k in range(K):\n",
    "    plt.figure()\n",
    "    plt.imshow(lds_ar.dynamics.As[k], aspect='auto', interpolation=\"none\", vmin=-1, vmax=1, cmap='RdBu')\n",
    "    plt.colorbar()\n",
    "    \n",
    "for k in range(K):\n",
    "    plt.figure()\n",
    "    plt.imshow(true_slds.dynamics.As[k], aspect='auto', interpolation=\"none\", vmin=-1, vmax=1, cmap='RdBu')\n",
    "    plt.colorbar()"
   ]
  },
  {
   "cell_type": "code",
   "execution_count": null,
   "metadata": {},
   "outputs": [],
   "source": [
    "for k in range(K):\n",
    "    plt.figure()\n",
    "    plt.imshow(true_slds.dynamics.As[k], aspect='auto', interpolation=\"none\", vmin=-1, vmax=1, cmap='RdBu')\n",
    "    plt.colorbar()"
   ]
  },
  {
   "cell_type": "code",
   "execution_count": null,
   "metadata": {},
   "outputs": [],
   "source": [
    "np.diag(lds_ar.dynamics.As[1])"
   ]
  },
  {
   "cell_type": "code",
   "execution_count": null,
   "metadata": {},
   "outputs": [],
   "source": [
    "np.diag(true_slds.dynamics.As[1])"
   ]
  },
  {
   "cell_type": "code",
   "execution_count": null,
   "metadata": {},
   "outputs": [],
   "source": [
    "np.diag(lds_ar.dynamics.As[0])"
   ]
  },
  {
   "cell_type": "code",
   "execution_count": null,
   "metadata": {},
   "outputs": [],
   "source": [
    "np.diag(true_slds.dynamics.As[0])"
   ]
  },
  {
   "cell_type": "code",
   "execution_count": null,
   "metadata": {},
   "outputs": [],
   "source": [
    "true_slds.dynamics.bs[0]"
   ]
  },
  {
   "cell_type": "code",
   "execution_count": null,
   "metadata": {},
   "outputs": [],
   "source": [
    "lds_ar.dynamics.bs[0]"
   ]
  },
  {
   "cell_type": "code",
   "execution_count": null,
   "metadata": {},
   "outputs": [],
   "source": [
    "true_slds.dynamics.bs[1]"
   ]
  },
  {
   "cell_type": "code",
   "execution_count": null,
   "metadata": {},
   "outputs": [],
   "source": [
    "lds_ar.dynamics.bs[1]"
   ]
  },
  {
   "cell_type": "code",
   "execution_count": null,
   "metadata": {},
   "outputs": [],
   "source": []
  },
  {
   "cell_type": "code",
   "execution_count": null,
   "metadata": {},
   "outputs": [],
   "source": [
    "np.linalg.eigvals(lds_ar.dynamics.As[1])"
   ]
  },
  {
   "cell_type": "code",
   "execution_count": null,
   "metadata": {},
   "outputs": [],
   "source": [
    "np.linalg.eigvals(true_slds.dynamics.As[1])"
   ]
  },
  {
   "cell_type": "code",
   "execution_count": null,
   "metadata": {},
   "outputs": [],
   "source": []
  },
  {
   "cell_type": "code",
   "execution_count": null,
   "metadata": {},
   "outputs": [],
   "source": [
    "lds_ar.transitions.transition_matrix"
   ]
  },
  {
   "cell_type": "code",
   "execution_count": null,
   "metadata": {},
   "outputs": [],
   "source": [
    "true_slds.transitions.transition_matrix"
   ]
  },
  {
   "cell_type": "code",
   "execution_count": null,
   "metadata": {},
   "outputs": [],
   "source": []
  },
  {
   "cell_type": "code",
   "execution_count": null,
   "metadata": {},
   "outputs": [],
   "source": [
    "ys_act.shape"
   ]
  },
  {
   "cell_type": "code",
   "execution_count": null,
   "metadata": {},
   "outputs": [],
   "source": [
    "Ypred_all.shape"
   ]
  },
  {
   "cell_type": "code",
   "execution_count": null,
   "metadata": {},
   "outputs": [],
   "source": [
    "%debug"
   ]
  },
  {
   "cell_type": "code",
   "execution_count": null,
   "metadata": {},
   "outputs": [],
   "source": []
  },
  {
   "cell_type": "code",
   "execution_count": null,
   "metadata": {},
   "outputs": [],
   "source": []
  },
  {
   "cell_type": "code",
   "execution_count": null,
   "metadata": {},
   "outputs": [],
   "source": []
  },
  {
   "cell_type": "code",
   "execution_count": null,
   "metadata": {},
   "outputs": [],
   "source": [
    "lr0.score(X_train,Y_train_all)"
   ]
  },
  {
   "cell_type": "code",
   "execution_count": null,
   "metadata": {},
   "outputs": [],
   "source": [
    "Ypred=lr0.predict(X_test)"
   ]
  },
  {
   "cell_type": "code",
   "execution_count": null,
   "metadata": {},
   "outputs": [],
   "source": [
    "ys[inc_idx,:]"
   ]
  },
  {
   "cell_type": "code",
   "execution_count": null,
   "metadata": {},
   "outputs": [],
   "source": [
    "Ypred.shape"
   ]
  },
  {
   "cell_type": "code",
   "execution_count": null,
   "metadata": {},
   "outputs": [],
   "source": [
    "ys_act.shape"
   ]
  },
  {
   "cell_type": "code",
   "execution_count": null,
   "metadata": {},
   "outputs": [],
   "source": [
    "ys_act=ys[inc_idx,:][test_index]\n",
    "np.sum(lds_ar.emissions.log_likelihoods(ys_act,np.zeros([ys_act.shape[0],0]),np.ones([ys_act.shape[0],ys.shape[1]]),None,Ypred))"
   ]
  },
  {
   "cell_type": "code",
   "execution_count": null,
   "metadata": {},
   "outputs": [],
   "source": []
  },
  {
   "cell_type": "code",
   "execution_count": null,
   "metadata": {},
   "outputs": [],
   "source": [
    "ys.shape[0]"
   ]
  },
  {
   "cell_type": "code",
   "execution_count": null,
   "metadata": {},
   "outputs": [],
   "source": [
    "for k in range(3):\n",
    "    pred=np.dot(q_ar.mean_continuous_states[0],lds_ar.dynamics.As[k].T)[:-1]\n",
    "    print(lds_ar.emissions.log_likelihoods(ys[1:],np.zeros([ys.shape[0]-1,0]),np.ones([ys.shape[0]-1,ys.shape[1]]),None,pred)[:10])"
   ]
  },
  {
   "cell_type": "code",
   "execution_count": null,
   "metadata": {},
   "outputs": [],
   "source": [
    "import copy"
   ]
  },
  {
   "cell_type": "code",
   "execution_count": null,
   "metadata": {},
   "outputs": [],
   "source": [
    "lds_copy=copy.deepcopy(lds_ar)"
   ]
  },
  {
   "cell_type": "code",
   "execution_count": null,
   "metadata": {},
   "outputs": [],
   "source": [
    "lds_copy.dynamics.As[k]=lr0.coef_\n",
    "lds_copy.dynamics.bs[k]=lr0.intercept_\n"
   ]
  },
  {
   "cell_type": "code",
   "execution_count": null,
   "metadata": {},
   "outputs": [],
   "source": [
    "plt.imshow(lr0.coef_, aspect='auto', interpolation=\"none\", vmin=-1, vmax=1, cmap='RdBu')"
   ]
  },
  {
   "cell_type": "code",
   "execution_count": null,
   "metadata": {},
   "outputs": [],
   "source": [
    "lr0.intercept_"
   ]
  },
  {
   "cell_type": "code",
   "execution_count": null,
   "metadata": {},
   "outputs": [],
   "source": [
    "plt.imshow(lds_ar.dynamics.As[1], aspect='auto', interpolation=\"none\", vmin=-1, vmax=1, cmap='RdBu')\n"
   ]
  },
  {
   "cell_type": "code",
   "execution_count": null,
   "metadata": {},
   "outputs": [],
   "source": [
    "all 0.895836728672041\n",
    "0 0.9143844867474444\n",
    "all 0.8914028196908788\n",
    "0 0.9243625054437348\n",
    "all 0.819334440087855\n",
    "0 0.9189726698972118\n",
    "all 0.869874134719664\n",
    "0 0.884977863712692"
   ]
  },
  {
   "cell_type": "code",
   "execution_count": null,
   "metadata": {},
   "outputs": [],
   "source": [
    "lr.score(X_test,Y_test)"
   ]
  },
  {
   "cell_type": "code",
   "execution_count": null,
   "metadata": {},
   "outputs": [],
   "source": [
    "lr.score(X_train,Y_train)"
   ]
  },
  {
   "cell_type": "code",
   "execution_count": null,
   "metadata": {},
   "outputs": [],
   "source": [
    "Y_train.shape"
   ]
  },
  {
   "cell_type": "code",
   "execution_count": null,
   "metadata": {},
   "outputs": [],
   "source": [
    "X_test.shape"
   ]
  },
  {
   "cell_type": "code",
   "execution_count": null,
   "metadata": {},
   "outputs": [],
   "source": [
    "lds_ar.dynamics.log_likelihoods(q_ar.mean_continuous_states[0],np.zeros([q_ar.mean_continuous_states[0].shape[0],1]),np.ones(q_ar.mean_continuous_states[0].shape),None)[:10]"
   ]
  },
  {
   "cell_type": "code",
   "execution_count": null,
   "metadata": {},
   "outputs": [],
   "source": [
    "lds_ar.emissions.log_likelihoods(ys,np.zeros([ys.shape[0],0]),np.ones(ys.shape),None,q_ar.mean_continuous_states[0])[:10]"
   ]
  },
  {
   "cell_type": "code",
   "execution_count": null,
   "metadata": {},
   "outputs": [],
   "source": []
  },
  {
   "cell_type": "code",
   "execution_count": null,
   "metadata": {},
   "outputs": [],
   "source": [
    "pred0=np.dot(q_ar.mean_continuous_states[0],lds_ar.dynamics.As[0].T)[:-1]\n",
    "lds_ar.emissions.log_likelihoods(ys[:-1],np.zeros([ys.shape[0]-1,0]),np.ones([ys.shape[0]-1,ys.shape[1]]),None,pred0)[:10]"
   ]
  },
  {
   "cell_type": "code",
   "execution_count": null,
   "metadata": {},
   "outputs": [],
   "source": [
    "pred1=np.dot(q_ar.mean_continuous_states[0],lds_ar.dynamics.As[1].T)[:-1]\n",
    "lds_ar.emissions.log_likelihoods(ys[:-1],np.zeros([ys.shape[0]-1,0]),np.ones([ys.shape[0]-1,ys.shape[1]]),None,pred1)[:10]"
   ]
  },
  {
   "cell_type": "code",
   "execution_count": null,
   "metadata": {},
   "outputs": [],
   "source": [
    "for k in range(3):\n",
    "    pred=np.dot(q_ar.mean_continuous_states[0],lds_ar.dynamics.As[k].T)[:-1]\n",
    "    print(lds_ar.emissions.log_likelihoods(ys[1:],np.zeros([ys.shape[0]-1,0]),np.ones([ys.shape[0]-1,ys.shape[1]]),None,pred)[:10])"
   ]
  },
  {
   "cell_type": "code",
   "execution_count": null,
   "metadata": {},
   "outputs": [],
   "source": [
    "z_inferred=lds_sp.most_likely_states(q_sp.mean_continuous_states[0],ys)\n",
    "\n",
    "lds_sp.permute(find_permutation(zs, z_inferred))\n",
    "# Plot the true and inferred discrete states\n",
    "z_inferred2=lds_sp.most_likely_states(q_sp.mean_continuous_states[0],ys)\n",
    "\n",
    "\n",
    "\n",
    "\n",
    "plt.figure(figsize=(8, 4))\n",
    "plt.subplot(211)\n",
    "plt.imshow(zs[None,:], aspect=\"auto\", cmap=cmap, vmin=0, vmax=len(colors)-1)\n",
    "plt.xlim(0, t_end)\n",
    "plt.ylabel(\"$z_{\\\\mathrm{true}}$\")\n",
    "plt.yticks([])\n",
    "\n",
    "plt.subplot(212)\n",
    "plt.imshow(z_inferred2[None,:], aspect=\"auto\", cmap=cmap, vmin=0, vmax=len(colors)-1)\n",
    "plt.xlim(0, t_end)\n",
    "plt.ylabel(\"$z_{\\\\mathrm{inferred}}$\")\n",
    "plt.yticks([])\n",
    "plt.xlabel(\"time\")\n",
    "\n",
    "plt.tight_layout()"
   ]
  },
  {
   "cell_type": "code",
   "execution_count": null,
   "metadata": {},
   "outputs": [],
   "source": [
    "np.mean(zs==z_inferred2)"
   ]
  },
  {
   "cell_type": "code",
   "execution_count": null,
   "metadata": {},
   "outputs": [],
   "source": [
    "for k in range(K):\n",
    "\n",
    "    print(np.mean(lds_sp.dynamics.As_mask[k]==A_masks[k]))\n",
    "    "
   ]
  },
  {
   "cell_type": "code",
   "execution_count": null,
   "metadata": {},
   "outputs": [],
   "source": [
    "for k in range(K):\n",
    "    plt.figure()\n",
    "    plt.imshow(true_slds.dynamics.As[k], aspect='auto', interpolation=\"none\", vmin=-1, vmax=1, cmap='RdBu')\n",
    "    plt.colorbar()"
   ]
  },
  {
   "cell_type": "code",
   "execution_count": null,
   "metadata": {},
   "outputs": [],
   "source": [
    "for k in range(K):\n",
    "    plt.figure()\n",
    "    plt.imshow(lds_ar.dynamics.As[k], aspect='auto', interpolation=\"none\", vmin=-1, vmax=1, cmap='RdBu')\n",
    "    plt.colorbar()"
   ]
  },
  {
   "cell_type": "code",
   "execution_count": null,
   "metadata": {},
   "outputs": [],
   "source": [
    "for k in range(K):\n",
    "    plt.figure()\n",
    "    plt.imshow(lds_sp.dynamics.As[k], aspect='auto', interpolation=\"none\", vmin=-1, vmax=1, cmap='RdBu')\n",
    "    plt.colorbar()"
   ]
  },
  {
   "cell_type": "code",
   "execution_count": null,
   "metadata": {},
   "outputs": [],
   "source": [
    "np.diag(lds_ar.dynamics.As[2])"
   ]
  },
  {
   "cell_type": "code",
   "execution_count": null,
   "metadata": {},
   "outputs": [],
   "source": [
    "np.diag(true_slds.dynamics.As[2])"
   ]
  },
  {
   "cell_type": "code",
   "execution_count": null,
   "metadata": {},
   "outputs": [],
   "source": [
    "stop"
   ]
  },
  {
   "cell_type": "code",
   "execution_count": null,
   "metadata": {},
   "outputs": [],
   "source": [
    "output=lds_ar.approximate_posterior(ys)"
   ]
  },
  {
   "cell_type": "code",
   "execution_count": null,
   "metadata": {},
   "outputs": [],
   "source": [
    "output"
   ]
  },
  {
   "cell_type": "code",
   "execution_count": null,
   "metadata": {},
   "outputs": [],
   "source": [
    "output[1].mean_continuous_states[0].shape"
   ]
  },
  {
   "cell_type": "code",
   "execution_count": null,
   "metadata": {},
   "outputs": [],
   "source": [
    "plt.plot(output[1].mean_continuous_states[0][:100,:2])"
   ]
  },
  {
   "cell_type": "code",
   "execution_count": null,
   "metadata": {},
   "outputs": [],
   "source": [
    "plt.plot(output[1].mean_continuous_states[0][:100,:2])"
   ]
  },
  {
   "cell_type": "code",
   "execution_count": null,
   "metadata": {},
   "outputs": [],
   "source": [
    "output=lds_ar.approximate_posterior(ys,num_iters=50,alpha=0)"
   ]
  },
  {
   "cell_type": "code",
   "execution_count": null,
   "metadata": {},
   "outputs": [],
   "source": []
  },
  {
   "cell_type": "code",
   "execution_count": null,
   "metadata": {},
   "outputs": [],
   "source": [
    "output[0] #alpha1"
   ]
  },
  {
   "cell_type": "code",
   "execution_count": null,
   "metadata": {},
   "outputs": [],
   "source": [
    "output[0] #alpha.75"
   ]
  },
  {
   "cell_type": "code",
   "execution_count": null,
   "metadata": {},
   "outputs": [],
   "source": [
    "output[0] #alpha.5"
   ]
  },
  {
   "cell_type": "code",
   "execution_count": null,
   "metadata": {},
   "outputs": [],
   "source": [
    "output[0] #alpha.25"
   ]
  },
  {
   "cell_type": "code",
   "execution_count": null,
   "metadata": {},
   "outputs": [],
   "source": [
    "output[0] #alpha0"
   ]
  },
  {
   "cell_type": "code",
   "execution_count": null,
   "metadata": {},
   "outputs": [],
   "source": []
  },
  {
   "cell_type": "code",
   "execution_count": null,
   "metadata": {},
   "outputs": [],
   "source": []
  },
  {
   "cell_type": "code",
   "execution_count": null,
   "metadata": {},
   "outputs": [],
   "source": [
    "# %debug"
   ]
  },
  {
   "cell_type": "code",
   "execution_count": null,
   "metadata": {},
   "outputs": [],
   "source": [
    "# %debug"
   ]
  },
  {
   "cell_type": "code",
   "execution_count": null,
   "metadata": {},
   "outputs": [],
   "source": [
    "np.mean(A_acc_ar)"
   ]
  },
  {
   "cell_type": "code",
   "execution_count": null,
   "metadata": {},
   "outputs": [],
   "source": [
    "print(\"ar_acc\",np.mean(A_acc_ar))\n",
    "print(\"sp_acc\",np.mean(A_acc_sp))\n",
    "print(\"ar_ll\",np.mean(ll_ar))\n",
    "print(\"sp_ll\",np.mean(ll_sp))"
   ]
  },
  {
   "cell_type": "code",
   "execution_count": null,
   "metadata": {},
   "outputs": [],
   "source": [
    "# ar_acc 0.775\n",
    "# ar_diag_acc 0.765\n",
    "\n",
    "# sp_acc 0.736"
   ]
  },
  {
   "cell_type": "code",
   "execution_count": null,
   "metadata": {},
   "outputs": [],
   "source": [
    "stop\n",
    "# sp_ll -373584.23291210894\n",
    "# sp_ll -234759.7301952812\n",
    "\n"
   ]
  },
  {
   "cell_type": "code",
   "execution_count": null,
   "metadata": {},
   "outputs": [],
   "source": [
    "plt.plot(xs[0][:200])"
   ]
  },
  {
   "cell_type": "code",
   "execution_count": null,
   "metadata": {},
   "outputs": [],
   "source": [
    "hmm_sp.observations.As_mask"
   ]
  },
  {
   "cell_type": "code",
   "execution_count": null,
   "metadata": {},
   "outputs": [],
   "source": [
    "A_mask"
   ]
  },
  {
   "cell_type": "code",
   "execution_count": null,
   "metadata": {},
   "outputs": [],
   "source": [
    "plt.imshow(A, aspect='auto', interpolation=\"none\", vmin=-.3, vmax=.3, cmap='RdBu')\n",
    "plt.colorbar()"
   ]
  },
  {
   "cell_type": "code",
   "execution_count": null,
   "metadata": {},
   "outputs": [],
   "source": [
    "plt.imshow(true_hmm.observations.As[0], aspect='auto', interpolation=\"none\", vmin=-.3, vmax=.3, cmap='RdBu')\n",
    "plt.colorbar()"
   ]
  },
  {
   "cell_type": "code",
   "execution_count": null,
   "metadata": {},
   "outputs": [],
   "source": [
    "plt.imshow(hmm_ar.observations.As[0], aspect='auto', interpolation=\"none\", vmin=-.3, vmax=.3, cmap='RdBu')\n",
    "plt.colorbar()"
   ]
  },
  {
   "cell_type": "code",
   "execution_count": null,
   "metadata": {},
   "outputs": [],
   "source": [
    "plt.imshow(hmm_ar.observations.As[0], aspect='auto', interpolation=\"none\", vmin=-.5, vmax=.5, cmap='RdBu')\n",
    "plt.colorbar()"
   ]
  },
  {
   "cell_type": "code",
   "execution_count": null,
   "metadata": {},
   "outputs": [],
   "source": [
    "norms=get_gr_norms(hmm_ar.observations.As[0])**2\n",
    "norm_normalized=norms/np.max(norms)"
   ]
  },
  {
   "cell_type": "code",
   "execution_count": null,
   "metadata": {},
   "outputs": [],
   "source": [
    "norm_normalized"
   ]
  },
  {
   "cell_type": "code",
   "execution_count": null,
   "metadata": {},
   "outputs": [],
   "source": [
    "A_masks[0]"
   ]
  },
  {
   "cell_type": "code",
   "execution_count": null,
   "metadata": {},
   "outputs": [],
   "source": [
    "print(\"ar_acc\",np.mean(A_acc_ar))\n",
    "print(\"sp_acc\",np.mean(A_acc_sp))\n",
    "print(\"ar_acc\",np.mean(ll_ar))\n",
    "print(\"sp_acc\",np.mean(ll_sp))"
   ]
  },
  {
   "cell_type": "code",
   "execution_count": null,
   "metadata": {},
   "outputs": [],
   "source": [
    "print(\"ar_acc\",np.mean(A_acc_ar))\n",
    "print(\"sp_acc\",np.mean(A_acc_sp))\n",
    "print(\"ar_acc\",np.mean(ll_ar))\n",
    "print(\"sp_acc\",np.mean(ll_sp))"
   ]
  },
  {
   "cell_type": "code",
   "execution_count": null,
   "metadata": {},
   "outputs": [],
   "source": [
    "print(\"ar_acc\",np.mean(A_acc_ar))\n",
    "print(\"sp_acc\",np.mean(A_acc_sp))\n",
    "print(\"ar_acc\",np.mean(ll_ar))\n",
    "print(\"sp_acc\",np.mean(ll_sp))"
   ]
  },
  {
   "cell_type": "code",
   "execution_count": null,
   "metadata": {},
   "outputs": [],
   "source": [
    "print(\"ar_acc\",np.mean(A_acc_ar))\n",
    "print(\"sp_acc\",np.mean(A_acc_sp))\n",
    "print(\"ar_acc\",np.mean(ll_ar))\n",
    "print(\"sp_acc\",np.mean(ll_sp))"
   ]
  },
  {
   "cell_type": "code",
   "execution_count": null,
   "metadata": {},
   "outputs": [],
   "source": [
    "print(\"ar_acc\",np.mean(A_acc_ar))\n",
    "print(\"sp_acc\",np.mean(A_acc_sp))\n",
    "print(\"ar_acc\",np.mean(ll_ar))\n",
    "print(\"sp_acc\",np.mean(ll_sp))"
   ]
  },
  {
   "cell_type": "code",
   "execution_count": null,
   "metadata": {},
   "outputs": [],
   "source": []
  },
  {
   "cell_type": "code",
   "execution_count": null,
   "metadata": {},
   "outputs": [],
   "source": []
  },
  {
   "cell_type": "code",
   "execution_count": null,
   "metadata": {},
   "outputs": [],
   "source": []
  },
  {
   "cell_type": "code",
   "execution_count": null,
   "metadata": {},
   "outputs": [],
   "source": [
    "#prior_precision_A=1"
   ]
  },
  {
   "cell_type": "code",
   "execution_count": null,
   "metadata": {},
   "outputs": [],
   "source": [
    "np.mean(1-A_acc_ar)"
   ]
  },
  {
   "cell_type": "code",
   "execution_count": null,
   "metadata": {},
   "outputs": [],
   "source": [
    "np.mean(A_acc_sp)"
   ]
  },
  {
   "cell_type": "code",
   "execution_count": null,
   "metadata": {},
   "outputs": [],
   "source": [
    "np.mean(ll_ar)"
   ]
  },
  {
   "cell_type": "code",
   "execution_count": null,
   "metadata": {},
   "outputs": [],
   "source": [
    "np.mean(ll_sp)"
   ]
  },
  {
   "cell_type": "code",
   "execution_count": null,
   "metadata": {},
   "outputs": [],
   "source": [
    "from itertools import product\n"
   ]
  },
  {
   "cell_type": "code",
   "execution_count": null,
   "metadata": {},
   "outputs": [],
   "source": [
    "\n",
    "B_in=3\n",
    "assignments = np.array(list(product([0, 1], repeat=B_in)))\n",
    "log_probs = np.zeros(2**B_in)\n",
    "# for ind, zk in enumerate(assignments):\n",
    "#     # Expand the binary mask and pad with an extra one for the intercept\n",
    "#     z = np.concatenate([np.kron(zk, np.ones(S_in)), np.ones(1)])\n",
    "#     for i in range(k * S_out, (k + 1) * S_out):\n",
    "#         J = J0 + 1/sigmasq[i] * big_xxT * np.outer(z, z)"
   ]
  },
  {
   "cell_type": "code",
   "execution_count": null,
   "metadata": {},
   "outputs": [],
   "source": [
    "assignments"
   ]
  },
  {
   "cell_type": "code",
   "execution_count": null,
   "metadata": {},
   "outputs": [],
   "source": [
    "for ind, zk in enumerate(assignments):\n",
    "    zk2=np.ones(4)\n",
    "    zk2[np.delete(np.arange(0,4),2)]=zk\n",
    "#     print(ind,zk,zk2)\n",
    "    print(np.concatenate([np.kron(zk2, np.ones(3)), np.ones(1)]))"
   ]
  },
  {
   "cell_type": "code",
   "execution_count": null,
   "metadata": {},
   "outputs": [],
   "source": []
  },
  {
   "cell_type": "code",
   "execution_count": null,
   "metadata": {},
   "outputs": [],
   "source": []
  },
  {
   "cell_type": "code",
   "execution_count": null,
   "metadata": {},
   "outputs": [],
   "source": [
    "list(product([0, 1], repeat=2))"
   ]
  },
  {
   "cell_type": "code",
   "execution_count": null,
   "metadata": {},
   "outputs": [],
   "source": [
    "np.array(list(product([0, 1], repeat=B_in)))"
   ]
  },
  {
   "cell_type": "code",
   "execution_count": null,
   "metadata": {},
   "outputs": [],
   "source": [
    "# for i in range(3):\n",
    "#     for j i range(3):\n",
    "#     print(i,j)"
   ]
  },
  {
   "cell_type": "markdown",
   "metadata": {},
   "source": [
    "# HMM"
   ]
  },
  {
   "cell_type": "code",
   "execution_count": null,
   "metadata": {},
   "outputs": [],
   "source": [
    "\n",
    "\n",
    "npr.seed(0)\n",
    "\n",
    "# import seaborn as sns\n",
    "# sns.set_style(\"white\")\n",
    "# sns.set_context(\"talk\")\n",
    "\n",
    "# from ssm.variational import SLDSMeanFieldVariationalPosterior, SLDSTriDiagVariationalPosterior, \\\n",
    "# \tSLDSStructuredMeanFieldVariationalPosterior\n",
    "# from ssm.util import random_rotation, find_permutation\n",
    "# from extensions.compound_emissions.compound_emissions import GaussianCompoundEmissions\n",
    "# from extensions.compound_emissions.compound_emissions import GaussianOrthogonalCompoundEmissions\n"
   ]
  },
  {
   "cell_type": "code",
   "execution_count": null,
   "metadata": {},
   "outputs": [],
   "source": [
    "np.random.seed(0)\n",
    "\n",
    "\n",
    "# hmm = ssm.HMM(1, D, observations=\"sparse_ar\",\n",
    "#               observation_kwargs=dict(block_size=(num_per_gr,num_per_gr),sparsity=0.5,prior_precicion_A=1))\n",
    "\n",
    "hmm = ssm.HMM(1, D, observations=\"diagonal_ar\")\n",
    "\n",
    "\n",
    "hmm_lls = hmm.fit(xs, method=\"em\", num_iters=100, tolerance=1e-4, initialize=True)\n",
    "# hmm_lls = hmm.fit(xs, method=\"adam\", num_iters=500)"
   ]
  },
  {
   "cell_type": "code",
   "execution_count": null,
   "metadata": {},
   "outputs": [],
   "source": [
    "plt.plot(hmm_lls)"
   ]
  },
  {
   "cell_type": "code",
   "execution_count": null,
   "metadata": {},
   "outputs": [],
   "source": [
    "plt.imshow(hmm.observations.As[0], aspect='auto', interpolation=\"none\", vmin=-1, vmax=1, cmap='RdBu')\n",
    "plt.colorbar()"
   ]
  },
  {
   "cell_type": "code",
   "execution_count": null,
   "metadata": {},
   "outputs": [],
   "source": [
    "def get_gr_norms(A):\n",
    "    AI=A-np.identity(D)\n",
    "    norms=np.zeros([num_gr,num_gr])\n",
    "    for i in range(num_gr):\n",
    "        for j in range(num_gr):\n",
    "            norms[i,j]=np.linalg.norm(AI[D_vec_cumsum[i]:D_vec_cumsum[i+1],D_vec_cumsum[j]:D_vec_cumsum[j+1]])\n",
    "    return norms\n",
    "       "
   ]
  },
  {
   "cell_type": "code",
   "execution_count": null,
   "metadata": {},
   "outputs": [],
   "source": [
    "norms=get_gr_norms(hmm.observations.As[0])\n",
    "norms/np.max(norms)\n",
    "# norms"
   ]
  },
  {
   "cell_type": "code",
   "execution_count": null,
   "metadata": {},
   "outputs": [],
   "source": [
    "# hmm.observations.As[0]"
   ]
  },
  {
   "cell_type": "code",
   "execution_count": null,
   "metadata": {},
   "outputs": [],
   "source": [
    "A_mask"
   ]
  },
  {
   "cell_type": "code",
   "execution_count": null,
   "metadata": {},
   "outputs": [],
   "source": [
    "hmm.observations.As_mask"
   ]
  },
  {
   "cell_type": "code",
   "execution_count": null,
   "metadata": {},
   "outputs": [],
   "source": [
    "stop"
   ]
  },
  {
   "cell_type": "code",
   "execution_count": null,
   "metadata": {},
   "outputs": [],
   "source": [
    "D_vec2=[3,3,3]"
   ]
  },
  {
   "cell_type": "code",
   "execution_count": null,
   "metadata": {},
   "outputs": [],
   "source": [
    "import ssm\n",
    "from ssm.variational import SLDSMeanFieldVariationalPosterior, SLDSTriDiagVariationalPosterior, \\\n",
    "\tSLDSStructuredMeanFieldVariationalPosterior\n",
    "from ssm.util import random_rotation, find_permutation\n",
    "\n",
    "from extensions.compound_emissions.compound_emissions import GaussianOrthogonalCompoundEmissions\n",
    "gauss_comp_emissions=GaussianOrthogonalCompoundEmissions(N=np.sum(N_vec),K=3,D=np.sum(D_vec2),D_vec=D_vec2,N_vec=N_vec)"
   ]
  },
  {
   "cell_type": "code",
   "execution_count": null,
   "metadata": {},
   "outputs": [],
   "source": [
    "\n",
    "# Fit an rSLDS with its default initialization, using Laplace-EM with a structured variational posterior\n",
    "# lds = ssm.SLDS(N=np.sum(N_vec),K=2,D=np.sum(D_vec2),\n",
    "#              dynamics=\"sparse_ar\",\n",
    "#              emissions=gauss_comp_emissions,\n",
    "#              dynamics_kwargs=dict(block_size=(3,3),sparsity=0.5,prior_precicion_A=1),\n",
    "#              single_subspace=True)\n",
    "\n",
    "lds = ssm.SLDS(N=np.sum(N_vec),K=2,D=np.sum(D_vec2),\n",
    "             dynamics=\"diagonal_gaussian\",\n",
    "             emissions=gauss_comp_emissions,\n",
    "             single_subspace=True)\n",
    "\n",
    "lds.initialize(ys)\n",
    "\n",
    "q_elbos_lem, q_lem = lds.fit(ys, method=\"laplace_em\",\n",
    "                               variational_posterior=\"structured_meanfield\",\n",
    "                               initialize=False, num_iters=50, alpha=.25)"
   ]
  },
  {
   "cell_type": "code",
   "execution_count": null,
   "metadata": {},
   "outputs": [],
   "source": [
    "plt.plot(q_elbos_lem[2:])"
   ]
  },
  {
   "cell_type": "code",
   "execution_count": null,
   "metadata": {},
   "outputs": [],
   "source": [
    "zs=[lds.most_likely_states(q_lem.mean_continuous_states[tr],ys[tr]) for tr in range(num_trials)]\n",
    "\n",
    "for tr in range(num_trials):\n",
    "    plt.figure()\n",
    "    plt.plot(zs[tr])"
   ]
  },
  {
   "cell_type": "code",
   "execution_count": null,
   "metadata": {},
   "outputs": [],
   "source": [
    "for k in range(3):\n",
    "    plt.figure()\n",
    "    plt.imshow(lds.dynamics.As[k], aspect='auto', interpolation=\"none\", vmin=-1, vmax=1, cmap='RdBu')\n",
    "    plt.colorbar()"
   ]
  },
  {
   "cell_type": "code",
   "execution_count": null,
   "metadata": {},
   "outputs": [],
   "source": [
    "lds.dynamics.As_mask"
   ]
  },
  {
   "cell_type": "code",
   "execution_count": null,
   "metadata": {},
   "outputs": [],
   "source": []
  },
  {
   "cell_type": "code",
   "execution_count": null,
   "metadata": {},
   "outputs": [],
   "source": [
    "plt.plot(q_elbos_lem[2:])"
   ]
  },
  {
   "cell_type": "code",
   "execution_count": null,
   "metadata": {},
   "outputs": [],
   "source": [
    "zs=[lds.most_likely_states(q_lem.mean_continuous_states[tr],ys[tr]) for tr in range(num_trials)]\n",
    "\n",
    "for tr in range(num_trials):\n",
    "    plt.figure()\n",
    "    plt.plot(zs[tr])"
   ]
  },
  {
   "cell_type": "code",
   "execution_count": null,
   "metadata": {},
   "outputs": [],
   "source": [
    "for k in range(3):\n",
    "    plt.figure()\n",
    "    plt.imshow(lds.dynamics.As[k], aspect='auto', interpolation=\"none\", vmin=-1, vmax=1, cmap='RdBu')\n",
    "    plt.colorbar()"
   ]
  },
  {
   "cell_type": "code",
   "execution_count": null,
   "metadata": {},
   "outputs": [],
   "source": [
    "\n",
    "\n",
    "\n",
    "\n",
    "# def fit_sparse_linear_regression2(Xs, Ys, B_out, B_in, etasq=1.0, inv_sigmasq=0.1, rho=0.5):\n",
    "#     N, D_in = Xs.shape\n",
    "#     _, D_out = Ys.shape\n",
    "#     S_in = D_in // B_in\n",
    "#     S_out = D_out // B_out\n",
    "#     assert Ys.shape[0] == N\n",
    "\n",
    "#     # Compute the sufficient statistics\n",
    "#     x = np.sum(Xs, axis=0)\n",
    "#     y = np.sum(Ys, axis=0)\n",
    "#     xxT = np.einsum('ni,nj->ij', Xs, Xs)\n",
    "#     big_xxT = np.block([[xxT, x[:, None]],\n",
    "#                       [x,   N]])\n",
    "#     yxT = np.einsum('ni,nj->ij', Ys, Xs)\n",
    "#     big_yxT = np.block([yxT, y[:, None]])\n",
    "#     yyT = np.einsum('ni,nj->ij', Ys, Ys)\n",
    "\n",
    "#     # Set up the prior. Don't penalize the magnitude of the intercept.\n",
    "#     J0 = np.diag(np.concatenate([1 / etasq * np.ones(D_in), [1e-8]]))\n",
    "\n",
    "#     # Initialize the outputs\n",
    "#     big_A = np.zeros((D_out, D_in + 1))\n",
    "#     Z = np.zeros((B_out, B_in))\n",
    "#     Z_posteriors = []\n",
    "\n",
    "#     # Compute the posterior distribution for each row of Z\n",
    "#     for k in trange(B_out):\n",
    "#     # Find the output slice\n",
    "#         slc = slice(k * S_out, (k + 1) * S_out)\n",
    "\n",
    "#         # Enumerate all 2^{B_in} assignments of the binary mask\n",
    "#         assert B_in <= 16, \"You probably don't want to explicitly enumerate 2^B_{in}\"\\\n",
    "#                            \"assignments when B_{in} > 10.\"\n",
    "#         assignments = np.array(list(product([0, 1], repeat=B_in)))\n",
    "#         log_probs = np.zeros(2**B_in)\n",
    "#         for ind, zk in enumerate(assignments):\n",
    "#             # Expand the binary mask and pad with an extra one for the intercept\n",
    "#             z = np.concatenate([np.kron(zk, np.ones(S_in)), np.ones(1)])\n",
    "#             J = J0 + inv_sigmasq * big_xxT * np.outer(z, z)#+1e-4*np.identity(D_in+1)\n",
    "#             print(big_xxT.shape)\n",
    "# #             print(np.outer(z,z).shape)\n",
    "#             print(J.shape)\n",
    "#             L = np.linalg.cholesky(J)\n",
    "#             h = inv_sigmasq * big_yxT[slc] * z\n",
    "#             tmp = solve_triangular(L, h.T, lower=True)\n",
    "\n",
    "#             log_probs[ind] = np.sum(zk * np.log(rho) + (1-zk) * np.log(1 - rho))\n",
    "#             log_probs[ind] += 0.5 * np.sum(tmp**2) - S_out * np.sum(np.log(np.diag(L)))\n",
    "\n",
    "#         # Save the posterior\n",
    "#         Z_posteriors.append((assignments, np.exp(log_probs - logsumexp(log_probs))))\n",
    "\n",
    "#         # Find the most likely assignment for these outputs\n",
    "#         Z[k] = assignments[np.argmax(log_probs)]\n",
    "#         z = np.concatenate([np.kron(Z[k], np.ones(S_in)), np.ones(1)])\n",
    "#         J = J0 + 1/sigmasq * big_xxT * np.outer(z, z)\n",
    "#         h = 1/sigmasq * big_yxT[slc] * z\n",
    "#         big_A[slc] = np.linalg.solve(J, h.T).T\n",
    "\n",
    "#     # Solve for the optimal variance\n",
    "#     sqerr = yyT - 2 * big_A @ big_yxT.T + big_A @ big_xxT @ big_A.T\n",
    "#     sigmasq = np.sum(np.diag(sqerr)) / (N * D_out)\n",
    "\n",
    "#     # Unpack the weights and intercept\n",
    "#     A, b = big_A[:, :-1], big_A[:, -1]\n",
    "#     return A, b, Z, sigmasq, Z_posteriors, sqerr\n"
   ]
  },
  {
   "cell_type": "code",
   "execution_count": null,
   "metadata": {},
   "outputs": [],
   "source": [
    "# from tqdm.auto import trange\n",
    "# from itertools import product\n",
    "# from scipy.linalg import solve_triangular\n",
    "# from scipy.special import logsumexp\n",
    "# def fit_sparse_linear_regression(Xs, Ys, B_out, B_in, etasq=1.0,inv_sigmasq=0.1, rho=0.5):\n",
    "#     N, D_in = Xs.shape\n",
    "#     _, D_out = Ys.shape\n",
    "#     S_in = D_in // B_in\n",
    "#     S_out = D_out // B_out\n",
    "#     assert Ys.shape[0] == N\n",
    "\n",
    "#     # Compute the sufficient statistics\n",
    "#     x = np.sum(Xs, axis=0)\n",
    "#     y = np.sum(Ys, axis=0)\n",
    "#     xxT = np.einsum('ni,nj->ij', Xs, Xs)\n",
    "#     big_xxT = np.block([[xxT, x[:, None]],\n",
    "#                       [x,   N]])\n",
    "#     yxT = np.einsum('ni,nj->ij', Ys, Xs)\n",
    "#     big_yxT = np.block([yxT, y[:, None]])\n",
    "#     yyT = np.einsum('ni,nj->ij', Ys, Ys)\n",
    "\n",
    "#     # Set up the prior. Don't penalize the magnitude of the intercept.\n",
    "#     J0 = np.diag(np.concatenate([1 / etasq * np.ones(D_in), [1e-8]]))\n",
    "\n",
    "#     # Initialize the outputs\n",
    "#     big_A = np.zeros((D_out, D_in + 1))\n",
    "#     Z = np.zeros((B_out, B_in))\n",
    "#     Z_posteriors = []\n",
    "\n",
    "#     # Compute the posterior distribution for each row of Z\n",
    "#     for k in trange(B_out):\n",
    "#     # Find the output slice\n",
    "#         slc = slice(k * S_out, (k + 1) * S_out)\n",
    "\n",
    "#         # Enumerate all 2^{B_in} assignments of the binary mask\n",
    "#         assert B_in <= 16, \"You probably don't want to explicitly enumerate 2^B_{in}\"\\\n",
    "#                            \"assignments when B_{in} > 10.\"\n",
    "#         assignments = np.array(list(product([0, 1], repeat=B_in)))\n",
    "#         log_probs = np.zeros(2**B_in)\n",
    "#         for ind, zk in enumerate(assignments):\n",
    "#             # Expand the binary mask and pad with an extra one for the intercept\n",
    "#             z = np.concatenate([np.kron(zk, np.ones(S_in)), np.ones(1)])\n",
    "#             J = J0 + np.diag(inv_sigmasq) * big_xxT * np.outer(z, z)#+1e-4*np.identity(D_in+1)\n",
    "# #             J = J0 + inv_sigmasq * big_xxT * np.outer(z, z)#+1e-4*np.identity(D_in+1)\n",
    "# #             if ind==329:\n",
    "# #             print(ind)\n",
    "# #                 print(J)\n",
    "# #             stop\n",
    "# #             print(big_xxT.shape)\n",
    "# #             print(np.outer(z,z).shape)\n",
    "# #             print(J.shape)\n",
    "#             L = np.linalg.cholesky(J)\n",
    "#             h = np.diag(inv_sigmasq) * big_yxT[slc] * z\n",
    "# #             h = inv_sigmasq * big_yxT[slc] * z\n",
    "\n",
    "# #             if ind==329:\n",
    "# #                 print(h)\n",
    "#             tmp = solve_triangular(L, h.T, lower=True)\n",
    "\n",
    "#             log_probs[ind] = np.sum(zk * np.log(rho) + (1-zk) * np.log(1 - rho))\n",
    "#             log_probs[ind] += 0.5 * np.sum(tmp**2) - S_out * np.sum(np.log(np.diag(L)))\n",
    "\n",
    "#         # Save the posterior\n",
    "#         Z_posteriors.append((assignments, np.exp(log_probs - logsumexp(log_probs))))\n",
    "\n",
    "#         # Find the most likely assignment for these outputs\n",
    "#         Z[k] = assignments[np.argmax(log_probs)]\n",
    "#         z = np.concatenate([np.kron(Z[k], np.ones(S_in)), np.ones(1)])\n",
    "#         J = J0 + np.diag(inv_sigmasq) * big_xxT * np.outer(z, z)\n",
    "#         h = np.diag(inv_sigmasq) * big_yxT[slc] * z\n",
    "#         big_A[slc] = np.linalg.solve(J, h.T).T\n",
    "\n",
    "#     # Solve for the optimal variance\n",
    "#     sqerr = yyT - 2 * big_A @ big_yxT.T + big_A @ big_xxT @ big_A.T\n",
    "#     sigmasq = np.sum(np.diag(sqerr)) / (N * D_out)\n",
    "\n",
    "#     # Unpack the weights and intercept\n",
    "#     A, b = big_A[:, :-1], big_A[:, -1]\n",
    "#     return A, b, Z, sigmasq, Z_posteriors, sqerr\n",
    "\n"
   ]
  },
  {
   "cell_type": "code",
   "execution_count": null,
   "metadata": {},
   "outputs": [],
   "source": [
    "def fit_sparse_linear_regression(Xs, Ys, B_out, B_in, etasq=1.0, sigmasq=0.1, rho=0.5):\n",
    "  N, D_in = Xs.shape\n",
    "  _, D_out = Ys.shape\n",
    "  S_in = D_in // B_in\n",
    "  S_out = D_out // B_out\n",
    "  assert Ys.shape[0] == N\n",
    "    \n",
    "  # Make sure sigmasq is a vector\n",
    "  sigmasq = sigmasq * np.ones(D_out)\n",
    "\n",
    "  # Compute the sufficient statistics\n",
    "  x = np.sum(Xs, axis=0)\n",
    "  y = np.sum(Ys, axis=0)\n",
    "  xxT = np.einsum('ni,nj->ij', Xs, Xs)\n",
    "  big_xxT = np.block([[xxT, x[:, None]],\n",
    "                      [x,   N]])\n",
    "  yxT = np.einsum('ni,nj->ij', Ys, Xs)\n",
    "  big_yxT = np.block([yxT, y[:, None]])\n",
    "  yyT = np.einsum('ni,nj->ij', Ys, Ys)\n",
    "\n",
    "  # Set up the prior. Don't penalize the magnitude of the intercept.\n",
    "  J0 = np.diag(np.concatenate([1 / etasq * np.ones(D_in), [1e-8]]))\n",
    "\n",
    "  # Initialize the outputs\n",
    "  big_A = np.zeros((D_out, D_in + 1))\n",
    "  Z = np.zeros((B_out, B_in))\n",
    "  Z_posteriors = []\n",
    "\n",
    "  # Compute the posterior distribution for each row of Z\n",
    "  for k in trange(B_out):\n",
    "\n",
    "    # Enumerate all 2^{B_in} assignments of the binary mask\n",
    "    assert B_in <= 16, \"You probably don't want to explicitly enumerate 2^B_{in}\"\\\n",
    "                       \"assignments when B_{in} > 16.\"\n",
    "    assignments = np.array(list(product([0, 1], repeat=B_in)))\n",
    "    log_probs = np.zeros(2**B_in)\n",
    "    for ind, zk in enumerate(assignments):\n",
    "      # Expand the binary mask and pad with an extra one for the intercept\n",
    "      z = np.concatenate([np.kron(zk, np.ones(S_in)), np.ones(1)])\n",
    "      for i in range(k * S_out, (k + 1) * S_out):\n",
    "        J = J0 + 1/sigmasq[i] * big_xxT * np.outer(z, z)\n",
    "        print(J.shape)\n",
    "        L = np.linalg.cholesky(J)\n",
    "    \n",
    "        # (D_in x S_out)\n",
    "        h = 1/sigmasq[i] * big_yxT[i] * z\n",
    "        tmp = solve_triangular(L, h.T, lower=True)\n",
    "\n",
    "        log_probs[ind] = np.sum(zk * np.log(rho) + (1-zk) * np.log(1 - rho))\n",
    "        log_probs[ind] += 0.5 * np.sum(tmp**2) - S_out * np.sum(np.log(np.diag(L)))\n",
    "\n",
    "    # Save the posterior\n",
    "    Z_posteriors.append((assignments, np.exp(log_probs - logsumexp(log_probs))))\n",
    "\n",
    "    # Find the most likely assignment for these outputs\n",
    "    Z[k] = assignments[np.argmax(log_probs)]\n",
    "    z = np.concatenate([np.kron(Z[k], np.ones(S_in)), np.ones(1)])\n",
    "    for i in range(k * S_out, (k + 1) * S_out):\n",
    "      J = J0 + 1/sigmasq[i] * big_xxT * np.outer(z, z)\n",
    "      h = 1/sigmasq[i] * big_yxT[i] * z\n",
    "      print(big_yxT.shape)\n",
    "      print(\"h\",h.shape)\n",
    "      big_A[i] = np.linalg.solve(J, h.T).T\n",
    "\n",
    "  # Solve for the optimal variance\n",
    "  sqerr = yyT - 2 * big_A @ big_yxT.T + big_A @ big_xxT @ big_A.T\n",
    "  sigmasq = np.diag(sqerr) / N\n",
    "\n",
    "  # Unpack the weights and intercept\n",
    "  A, b = big_A[:, :-1], big_A[:, -1]\n",
    "  return A, b, Z, sigmasq, Z_posteriors"
   ]
  },
  {
   "cell_type": "code",
   "execution_count": null,
   "metadata": {},
   "outputs": [],
   "source": [
    "X=np.copy(xs[0][400:-1])\n",
    "Y=np.copy(xs[0][401:])\n",
    "\n",
    "# inv_cov=np.identity(10)*np.hstack([1/np.diag(sqerr)/X.shape[0],1e-3*np.ones([1])])\n",
    "\n",
    "# inv_cov=np.identity(10)*1e4\n",
    "\n",
    "inv_cov=1e4\n",
    "\n",
    "etasq=1\n",
    "# sigmasq=ss\n",
    "sigmasq = 1 / npr.gamma(2, 1 / 2, size=9) /1000\n",
    "\n",
    "B_out=9\n",
    "B_in=9\n",
    "rho=0.5\n",
    "# sigmasq_vec\n",
    "\n",
    "A_hat, b_hat, Z_hat, sigmasq_hat, Z_posteriors = fit_sparse_linear_regression(X, Y, B_out, B_in, \n",
    "                               etasq=etasq, sigmasq=sigmasq, rho=rho)\n",
    "\n",
    "# A_hat, b_hat, Z_hat, sigmasq_hat, Z_posteriors, sqerr = \\\n",
    "#   fit_sparse_linear_regression(X/np.std(X,axis=0), Y/np.std(X,axis=0), B_out, B_in, \n",
    "#                                etasq=etasq, sigmasq=sigmasq, rho=rho)"
   ]
  },
  {
   "cell_type": "code",
   "execution_count": null,
   "metadata": {},
   "outputs": [],
   "source": [
    "# X=np.copy(xs[0][400:-1])\n",
    "# Y=np.copy(xs[0][401:])\n",
    "\n",
    "# inv_cov=np.identity(10)*np.hstack([1/np.diag(sqerr)/X.shape[0],1e-3*np.ones([1])])\n",
    "# # \n",
    "# # inv_cov=np.identity(10)*1e4\n",
    "\n",
    "# # inv_cov=1e4\n",
    "\n",
    "# etasq=1\n",
    "# # sigmasq=ss\n",
    "# B_out=9\n",
    "# B_in=9\n",
    "# rho=0.5\n",
    "# # sigmasq_vec\n",
    "\n",
    "# A_hat, b_hat, Z_hat, sigmasq_hat, Z_posteriors, sqerr = fit_sparse_linear_regression(X, Y, B_out, B_in, \n",
    "#                                etasq=etasq, inv_sigmasq=inv_cov, rho=rho)\n",
    "\n",
    "# # A_hat, b_hat, Z_hat, sigmasq_hat, Z_posteriors, sqerr = \\\n",
    "# #   fit_sparse_linear_regression(X/np.std(X,axis=0), Y/np.std(X,axis=0), B_out, B_in, \n",
    "# #                                etasq=etasq, sigmasq=sigmasq, rho=rho)"
   ]
  },
  {
   "cell_type": "code",
   "execution_count": null,
   "metadata": {},
   "outputs": [],
   "source": [
    "X.shape"
   ]
  },
  {
   "cell_type": "code",
   "execution_count": null,
   "metadata": {},
   "outputs": [],
   "source": [
    "inv_cov=np.linalg.inv(np.identity(9)*np.diag(sqerr))"
   ]
  },
  {
   "cell_type": "code",
   "execution_count": null,
   "metadata": {},
   "outputs": [],
   "source": [
    "X[0,:]@inv_cov@X[0,:].T"
   ]
  },
  {
   "cell_type": "code",
   "execution_count": null,
   "metadata": {},
   "outputs": [],
   "source": [
    "X[0,:]@X[0,:].T"
   ]
  },
  {
   "cell_type": "code",
   "execution_count": null,
   "metadata": {},
   "outputs": [],
   "source": [
    "X[0:1,:].T@X[0:1,:]*1/np.diag(sqerr)"
   ]
  },
  {
   "cell_type": "code",
   "execution_count": null,
   "metadata": {},
   "outputs": [],
   "source": [
    "X[0:1,:].T@X[0:1,:]@inv_cov"
   ]
  },
  {
   "cell_type": "code",
   "execution_count": null,
   "metadata": {},
   "outputs": [],
   "source": [
    "inv_cov"
   ]
  },
  {
   "cell_type": "code",
   "execution_count": null,
   "metadata": {},
   "outputs": [],
   "source": [
    "cov=np.identity(9)*np.diag(sqerr)"
   ]
  },
  {
   "cell_type": "code",
   "execution_count": null,
   "metadata": {},
   "outputs": [],
   "source": [
    "np.dot(np.dot(X.T,np.linalg.inv(cov),X))"
   ]
  },
  {
   "cell_type": "code",
   "execution_count": null,
   "metadata": {},
   "outputs": [],
   "source": []
  },
  {
   "cell_type": "code",
   "execution_count": null,
   "metadata": {},
   "outputs": [],
   "source": [
    "np.hstack([np.diag(sqerr)/X.shape[0],np.ones([1])])"
   ]
  },
  {
   "cell_type": "code",
   "execution_count": null,
   "metadata": {},
   "outputs": [],
   "source": [
    "ss"
   ]
  },
  {
   "cell_type": "code",
   "execution_count": null,
   "metadata": {},
   "outputs": [],
   "source": [
    "X=np.copy(xs[0][400:-1])\n",
    "Y=np.copy(xs[0][401:])\n",
    "\n",
    "# inv_cov=np.identity(10)*np.hstack([1/np.diag(sqerr)/X.shape[0],1e-3*np.ones([1])])\n",
    "\n",
    "inv_cov=np.identity(10)*1e4\n",
    "\n",
    "etasq=1\n",
    "sigmasq=ss\n",
    "B_out=9\n",
    "B_in=9\n",
    "rho=0.5\n",
    "# sigmasq_vec\n",
    "\n",
    "A_hat, b_hat, Z_hat, sigmasq_hat, Z_posteriors, sqerr = fit_sparse_linear_regression(X, Y, B_out, B_in, \n",
    "                               etasq=etasq, inv_sigmasq=inv_cov, rho=rho)\n",
    "\n",
    "# A_hat, b_hat, Z_hat, sigmasq_hat, Z_posteriors, sqerr = \\\n",
    "#   fit_sparse_linear_regression(X/np.std(X,axis=0), Y/np.std(X,axis=0), B_out, B_in, \n",
    "#                                etasq=etasq, sigmasq=sigmasq, rho=rho)"
   ]
  },
  {
   "cell_type": "code",
   "execution_count": null,
   "metadata": {},
   "outputs": [],
   "source": [
    "# %debug"
   ]
  },
  {
   "cell_type": "code",
   "execution_count": null,
   "metadata": {},
   "outputs": [],
   "source": [
    "q"
   ]
  },
  {
   "cell_type": "code",
   "execution_count": null,
   "metadata": {},
   "outputs": [],
   "source": [
    "sigmasq_hat"
   ]
  },
  {
   "cell_type": "code",
   "execution_count": null,
   "metadata": {},
   "outputs": [],
   "source": [
    "# %debug"
   ]
  },
  {
   "cell_type": "code",
   "execution_count": null,
   "metadata": {},
   "outputs": [],
   "source": [
    "sigmasq"
   ]
  },
  {
   "cell_type": "code",
   "execution_count": null,
   "metadata": {},
   "outputs": [],
   "source": [
    "plt.imshow(A_hat, aspect='auto', interpolation=\"none\", vmin=-1, vmax=1, cmap='RdBu')\n",
    "plt.colorbar()"
   ]
  },
  {
   "cell_type": "code",
   "execution_count": null,
   "metadata": {},
   "outputs": [],
   "source": [
    "A_hat"
   ]
  },
  {
   "cell_type": "code",
   "execution_count": null,
   "metadata": {},
   "outputs": [],
   "source": [
    "A_hat"
   ]
  },
  {
   "cell_type": "code",
   "execution_count": null,
   "metadata": {},
   "outputs": [],
   "source": [
    "A_hat*np.std(X,axis=0)[:,None]/np.std(X,axis=0)[None,:]"
   ]
  },
  {
   "cell_type": "code",
   "execution_count": null,
   "metadata": {},
   "outputs": [],
   "source": []
  },
  {
   "cell_type": "code",
   "execution_count": null,
   "metadata": {},
   "outputs": [],
   "source": []
  }
 ],
 "metadata": {
  "anaconda-cloud": {},
  "kernelspec": {
   "display_name": "Python 3",
   "language": "python",
   "name": "python3"
  },
  "language_info": {
   "codemirror_mode": {
    "name": "ipython",
    "version": 3
   },
   "file_extension": ".py",
   "mimetype": "text/x-python",
   "name": "python",
   "nbconvert_exporter": "python",
   "pygments_lexer": "ipython3",
   "version": "3.5.4"
  }
 },
 "nbformat": 4,
 "nbformat_minor": 1
}
