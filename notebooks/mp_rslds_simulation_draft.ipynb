{
 "cells": [
  {
   "cell_type": "markdown",
   "metadata": {
    "colab_type": "text",
    "id": "view-in-github"
   },
   "source": [
    "<a href=\"https://colab.research.google.com/github/jglaser2/ssm/blob/multipop/notebooks/mp_rslds_simulation_draft.ipynb\" target=\"_parent\"><img src=\"https://colab.research.google.com/assets/colab-badge.svg\" alt=\"Open In Colab\"/></a>"
   ]
  },
  {
   "cell_type": "markdown",
   "metadata": {},
   "source": [
    "### If you want to quickly see how to fit your own data, jump down to the \"Fit model to data\" section\n",
    "<br />\n",
    "<br />\n",
    "\n",
    "# Multi-population recurrent switching linear dynamical systems overview\n",
    "\n",
    "This notebook goes through the simulation example shown in our manuscript (Figure 2A,B).\n",
    "\n",
    "Below, we briefly describe the model. We also recommend looking at the \"Recurrent SLDS\" notebook, which provides more details on the standard rSLDS.\n",
    "<br />\n",
    "<br />\n",
    "\n",
    "**1. Data**.\n",
    "Let $y_t^{_{(j)}}$ denote a vector of activity measurements of the $N_j$ neurons in population $j$ in time bin $t$.\n",
    "<br />\n",
    "\n",
    "**2. Emissions**. \n",
    "let $x_t^{_{(j)}}$ denote a continuous latent state of population $j$ at time $t$. The population states may differ in dimensionality~$D_j$, since populations may differ in size and complexity. The observed activity of population $j$ is modeled with a generalized linear model,\n",
    "\\begin{align}\n",
    "    E[y_t^{(j)}] &= f(C_j x_t^{(j)} + d_j),\n",
    "\\end{align}\n",
    "where each population has its own linear mapping parameterized by $\\{C_j, d_j\\}$. In this notebook, we use a Poisson GLM. Inputs can also be passed into this GLM, as described in the rSLDS notebook.\n",
    "\n",
    "There are multi-population emissions classes that will be loaded in the example below.\n",
    "<br />\n",
    "\n",
    "**3. Continuous State Update (Dynamics)**. \n",
    "The dynamics of a switching linear dynamical system are piecewise linear, with the linear dynamics at a given time determined by a discrete state, (more on discrete states below).\n",
    "\n",
    "\\begin{align}\n",
    "    x_t \\sim \n",
    "    A^{(z_t)} x_{t-1} + b^{(z_t)}\n",
    "\\end{align} \n",
    "\n",
    "where $z_t$ is the discrete state, $A^{(z_t)}$ is the dynamics for that discrete state, and $x_t$ contains the latents from all populations, $[x_t^1, x_t^2, ..., x_t^J]$. We ignore the noise term here for simplicity.\n",
    "\n",
    "Having unique continuous latents for each population allows us to decompose the dynamics in an interpretable manner. We model the temporal dynamics of the continuous states as\n",
    "\\begin{align}\n",
    "    x_t^{(j)} \\sim\n",
    "    A_{(j \\: to \\: j)}^{(z_t)} x_{t-1}^{(j)} \n",
    "    + \\sum_{i \\neq j} A_{(i \\: to \\: j)}^{(z_t)} x_{t-1}^{(i)} \n",
    "    + b_j^{(z_t)}.\n",
    "\\end{align} \n",
    "\n",
    "In the full dynamics matrices, $A^{(z_t)}$ we will show in the example below, the on-diagonal blocks represent the internal dynamics, $A_{(j \\: to \\: j)}^{(z_t)}$ and the off-diagonal blocks represent the external dynamics, $A_{(i \\: to \\: j)}^{(z_t)}$.\n",
    "\n",
    "\n",
    "**4. Discrete State Update (Transitions)**. \n",
    "Recurrent transitions are based on the continuous latent state. Our recurrent transitions have a sticky component, $S$ that determines the probabilities of staying in a state, and a switching component, $R$, that determines the probabilities of switching to states. In the model we use in this notebook:\n",
    "\n",
    "\\begin{align}\n",
    "    p(z_t = i \\mid z_{t-1} = j, x_{t-1}) &= \\mathrm{softmax}\\bigg\\{ \\Big( \\big(R x_{t-1}\\big) + r\\Big) \\odot (1 - e_{z_{t-1}})  + \\Big( \\big(S x_{t-1} \\big) + s \\Big) \\odot e_{z_{t-1}}  \\bigg\\},\n",
    "\\end{align}\n",
    "\n",
    "where $e_{z_{t-1}} \\in \\{0,1\\}^K$ is a one-hot encoding of $z_{t-1}$.\n",
    "\n",
    "To understand which populations are contributing to the transitions, we can decompose this equation:\n",
    "\n",
    "\n",
    "\\begin{align}\n",
    "    p(z_t = i \\mid z_{t-1} = j, x_{t-1}) &= \\mathrm{softmax}\\bigg\\{ \\Big( \\sum_{j=1}^J \\big(R_j x_{t-1}^{(j)}\\big) + r\\Big) \\odot (1 - e_{z_{t-1}})  + \\Big( \\sum_{j=1}^J \\big(S_j x_{t-1}^{(j)} \\big) + s \\Big) \\odot e_{z_{t-1}}  \\bigg\\},\n",
    "\\end{align}\n",
    "where, for example, $R_j x_{t-1}^{(j)}$ contains the contribution of population $j$ towards switching to each state.\n",
    "\n",
    "\n",
    "Additionally, we can include a dependency on the previous discrete state. This is included in the code package, but is not used in the example below.\n",
    "\n",
    "\\begin{align}\n",
    "    p(z_t = i \\mid z_{t-1} = j, x_{t-1}) &= \\mathrm{softmax}\\bigg\\{ \\log(P_{j,i}) +  \\big(R x_{t-1}\\big) \\odot (1 - e_{z_{t-1}})  + \\big(S x_{t-1} \\big) \\odot e_{z_{t-1}}  \\bigg\\},\n",
    "\\end{align}\n",
    "\n",
    "There are sticky multi-population emissions classes that will be loaded in the example below.\n",
    "<br />\n",
    "\n",
    "**5. Model fitting**. \n",
    "We fit the model with variational laplace EM - see the \"Variational Laplace EM for SLDS Tutorial\" for more information.\n"
   ]
  },
  {
   "cell_type": "markdown",
   "metadata": {
    "colab_type": "text",
    "id": "8OzC8q4bRFQv"
   },
   "source": [
    "## Import packages, including multipopulation extensions"
   ]
  },
  {
   "cell_type": "code",
   "execution_count": 1,
   "metadata": {
    "colab": {
     "base_uri": "https://localhost:8080/",
     "height": 581
    },
    "colab_type": "code",
    "id": "ruUnNqi5RZqT",
    "outputId": "228b6c8e-c064-46c2-ce57-9ad88daca5c8"
   },
   "outputs": [],
   "source": [
    "try:\n",
    "    import ssm\n",
    "except:\n",
    "    !pip install git+https://github.com/jglaser2/ssm.git@multipop#egg=ssm\n",
    "    import ssm"
   ]
  },
  {
   "cell_type": "code",
   "execution_count": 2,
   "metadata": {
    "colab": {
     "base_uri": "https://localhost:8080/",
     "height": 71
    },
    "colab_type": "code",
    "id": "zDn3tEJhRFQv",
    "outputId": "2f1ca1d0-8f17-404a-897f-57b8c5d353cb"
   },
   "outputs": [],
   "source": [
    "#### General packages\n",
    "\n",
    "from matplotlib import pyplot as plt\n",
    "%matplotlib inline\n",
    "import autograd.numpy as np\n",
    "import autograd.numpy.random as npr\n",
    "\n",
    "import seaborn as sns\n",
    "sns.set_style(\"white\")\n",
    "sns.set_context(\"talk\")\n",
    "sns.set_style('ticks',{\"xtick.major.size\":8,\n",
    "\"ytick.major.size\":8})\n",
    "from ssm.plots import gradient_cmap, white_to_color_cmap\n",
    "\n",
    "color_names = [\n",
    "    \"purple\",\n",
    "    \"red\",\n",
    "    \"amber\",\n",
    "    \"faded green\",\n",
    "    \"windows blue\",\n",
    "    \"orange\"\n",
    "    ]\n",
    "\n",
    "colors = sns.xkcd_palette(color_names)\n",
    "cmap = gradient_cmap(colors)"
   ]
  },
  {
   "cell_type": "code",
   "execution_count": 3,
   "metadata": {
    "colab": {},
    "colab_type": "code",
    "id": "0rq19iIQRFQy"
   },
   "outputs": [],
   "source": [
    "#### SSM PACKAGES ###\n",
    "\n",
    "import ssm\n",
    "from ssm.variational import SLDSMeanFieldVariationalPosterior, SLDSTriDiagVariationalPosterior, \\\n",
    "    SLDSStructuredMeanFieldVariationalPosterior\n",
    "from ssm.util import random_rotation, find_permutation, relu\n",
    "\n",
    "#Load from extensions\n",
    "from ssm.extensions.mp_srslds.emissions_ext import GaussianOrthogonalCompoundEmissions, PoissonOrthogonalCompoundEmissions\n",
    "from ssm.extensions.mp_srslds.transitions_ext import StickyRecurrentOnlyTransitions, StickyRecurrentTransitions"
   ]
  },
  {
   "cell_type": "markdown",
   "metadata": {
    "colab_type": "text",
    "id": "Ty3EOi8bRFQ1"
   },
   "source": [
    "## Simulate (somewhat realistic) data"
   ]
  },
  {
   "cell_type": "markdown",
   "metadata": {
    "colab_type": "text",
    "id": "QxDoYCRDRFQ2"
   },
   "source": [
    "### Set parameters of simulation"
   ]
  },
  {
   "cell_type": "code",
   "execution_count": 4,
   "metadata": {
    "colab": {},
    "colab_type": "code",
    "id": "dalqY6zvRFQ2"
   },
   "outputs": [],
   "source": [
    "K=3 #Number of discrete states\n",
    "\n",
    "num_gr=3 #Number of populations\n",
    "num_per_gr=5 #Number of latents per population\n",
    "neur_per_gr=75 #Number of neurons per population\n",
    "\n",
    "t_end=3000 #number of time bins\n",
    "num_trials=1 #number of trials"
   ]
  },
  {
   "cell_type": "code",
   "execution_count": 5,
   "metadata": {
    "colab": {
     "base_uri": "https://localhost:8080/",
     "height": 34
    },
    "colab_type": "code",
    "id": "OHTSTNbTRFQ4",
    "outputId": "fd3b833b-8df2-425b-d3ce-103cf42d5153"
   },
   "outputs": [
    {
     "name": "stdout",
     "output_type": "stream",
     "text": [
      "alphas: [0.05336111 0.03343876 0.08800889]\n"
     ]
    }
   ],
   "source": [
    "np.random.seed(108) #To create replicable dynamics\n",
    "\n",
    "alphas=.03+.1*np.random.rand(K) #Determines the distribution of values in the dynamics matrix, for each discrete state\n",
    "print('alphas:', alphas)\n",
    "\n",
    "sparsity=.33 #Proportion of non-diagonal blocks in the dynamics matrix that are 0\n",
    "\n",
    "e1=.1 #Amount of noise in the dynamics"
   ]
  },
  {
   "cell_type": "markdown",
   "metadata": {
    "colab_type": "text",
    "id": "t91lYSkPRFQ7"
   },
   "source": [
    "### Get new emissions and transitions classes for the simulated data"
   ]
  },
  {
   "cell_type": "code",
   "execution_count": 6,
   "metadata": {
    "colab": {},
    "colab_type": "code",
    "id": "tQx540b6RFQ8"
   },
   "outputs": [],
   "source": [
    "#Vector containing number of latents per population\n",
    "D_vec=[]\n",
    "for i in range(num_gr):\n",
    "    D_vec.append(num_per_gr) \n",
    "\n",
    "#Vector containing number of neurons per population\n",
    "N_vec=[]\n",
    "for i in range(num_gr):\n",
    "    N_vec.append(neur_per_gr)\n",
    "\n",
    "D=np.sum(D_vec)\n",
    "num_gr=len(D_vec)\n",
    "D_vec_cumsum = np.concatenate(([0], np.cumsum(D_vec)))\n",
    "\n",
    "#Get new multipopulation emissions class for the simulation\n",
    "\n",
    "# gauss_comp_emissions=GaussianOrthogonalCompoundEmissions(N=np.sum(N_vec),K=1,D=np.sum(D_vec),D_vec=D_vec,N_vec=N_vec)\n",
    "poiss_comp_emissions=PoissonOrthogonalCompoundEmissions(N=np.sum(N_vec),K=1,D=np.sum(D_vec),D_vec=D_vec,N_vec=N_vec,link='softplus')\n",
    "\n",
    "#Get transitions class\n",
    "true_sro_trans=StickyRecurrentOnlyTransitions(K=K,D=np.sum(D_vec)) "
   ]
  },
  {
   "cell_type": "markdown",
   "metadata": {
    "colab_type": "text",
    "id": "DDu2GnRGRFQ-"
   },
   "source": [
    "### Create simulated data"
   ]
  },
  {
   "cell_type": "code",
   "execution_count": 7,
   "metadata": {
    "colab": {},
    "colab_type": "code",
    "id": "VLN8FWLLRFQ_",
    "scrolled": true
   },
   "outputs": [],
   "source": [
    "np.random.seed(10) #To create replicable simulations\n",
    "\n",
    "A_masks=[]\n",
    "\n",
    "A_all=np.zeros([K,D,D]) #Initialize dynamics matrix\n",
    "b_all=np.zeros([K,D]) #Initialize dynamics offset\n",
    "\n",
    "\n",
    "#Create initial ground truth model, that we will modify\n",
    "true_slds = ssm.SLDS(N=np.sum(N_vec),K=K,D=int(np.sum(D_vec)),\n",
    "             dynamics=\"gaussian\",\n",
    "             emissions=poiss_comp_emissions,\n",
    "             transitions=true_sro_trans)\n",
    "\n",
    "#Create ground truth transitions\n",
    "v=.2+.2*np.random.rand(1)\n",
    "for k in range(K):\n",
    "    inc=np.copy(k)\n",
    "    true_slds.transitions.Rs[k,D_vec_cumsum[inc]:D_vec_cumsum[inc]+1]=v\n",
    "    true_slds.transitions.Ss[k,D_vec_cumsum[inc]:D_vec_cumsum[inc]+1]=v-.1\n",
    "\n",
    "true_slds.transitions.r=0*np.ones([K,1])\n",
    "true_slds.transitions.s=5*np.ones([K,1])\n",
    "\n",
    "#Create ground truth dynamics for each state\n",
    "for k in range(K):\n",
    "\n",
    "    ##Create dynamics##\n",
    "    alpha=alphas[k]\n",
    "\n",
    "    A_mask=np.random.rand(num_gr,num_gr)>sparsity #Make some blocks of the dynamics matrix 0\n",
    "\n",
    "    A_masks.append(A_mask)\n",
    "\n",
    "    for i in range(num_gr): \n",
    "        A_mask[i,i]=1\n",
    "\n",
    "    A0=np.zeros([D,D])\n",
    "    for i in range(D-1):\n",
    "        A0[i,i+1:]=alpha*np.random.randn(D-1-i)\n",
    "    A0=(A0-A0.T)\n",
    "\n",
    "    for i in range(num_gr):\n",
    "        A0[D_vec_cumsum[i]:D_vec_cumsum[i+1],D_vec_cumsum[i]:D_vec_cumsum[i+1]]=2*A0[D_vec_cumsum[i]:D_vec_cumsum[i+1],D_vec_cumsum[i]:D_vec_cumsum[i+1]]\n",
    "\n",
    "\n",
    "    A0=A0+np.identity(D)\n",
    "    A=A0*np.kron(A_mask, np.ones((num_per_gr, num_per_gr)))\n",
    "\n",
    "    A=A/(np.max(np.abs(np.linalg.eigvals(A)))+.01) #.97\n",
    "\n",
    "    b=1*np.random.rand(D)\n",
    "\n",
    "    A_all[k]=A\n",
    "    b_all[k]=b\n",
    "\n",
    "true_slds.dynamics.As=A_all\n",
    "true_slds.dynamics.bs=b_all\n",
    "\n",
    "\n",
    "zs, xs, _ = true_slds.sample(t_end) #Sample discrete and continuous latents from model for simulation\n",
    "\n",
    "#Get spike trains that have an average firing rate of 0.25 per bin\n",
    "tmp=np.mean(relu(np.dot(true_slds.emissions.Cs[0],xs.T)+.1*true_slds.emissions.ds[0][:,None]).T)\n",
    "mult=.25/tmp\n",
    "lams=relu(mult*np.dot(true_slds.emissions.Cs[0],xs.T)+.1*true_slds.emissions.ds[0][:,None]).T\n",
    "ys=np.random.poisson(lams) #Get spiking activity based on poisson statistics"
   ]
  },
  {
   "cell_type": "markdown",
   "metadata": {
    "colab_type": "text",
    "id": "twuPg8wRRFRC"
   },
   "source": [
    "## Plot simulated data"
   ]
  },
  {
   "cell_type": "markdown",
   "metadata": {
    "colab_type": "text",
    "id": "1-VkH7xSRFRC"
   },
   "source": [
    "### Dynamics matrices ($A^z$)"
   ]
  },
  {
   "cell_type": "code",
   "execution_count": 8,
   "metadata": {
    "colab": {
     "base_uri": "https://localhost:8080/",
     "height": 797
    },
    "colab_type": "code",
    "id": "qv7hO5fgRFRD",
    "outputId": "7b2a3151-a5dc-4ac0-c446-ecbb212ffb61"
   },
   "outputs": [
    {
     "data": {
      "image/png": "[encoded data removed]",
      "text/plain": [
       "<Figure size 288x288 with 1 Axes>"
      ]
     },
     "metadata": {},
     "output_type": "display_data"
    },
    {
     "data": {
      "image/png": "[encoded data removed]",
      "text/plain": [
       "<Figure size 288x288 with 1 Axes>"
      ]
     },
     "metadata": {},
     "output_type": "display_data"
    },
    {
     "data": {
      "image/png": "[encoded data removed]",
      "text/plain": [
       "<Figure size 288x288 with 1 Axes>"
      ]
     },
     "metadata": {},
     "output_type": "display_data"
    }
   ],
   "source": [
    "# vmin,vmax=[-1,1]\n",
    "vmin,vmax=[-.5,.5] #zoom in to see colors more clearly\n",
    "\n",
    "\n",
    "for k in range(K):\n",
    "    \n",
    "    plt.figure(figsize=(4,4))\n",
    "    plt.imshow(true_slds.dynamics.As[k], aspect='auto', interpolation=\"none\", vmin=vmin, vmax=vmax, cmap='RdBu')\n",
    "    offset=-.5\n",
    "    for nf in D_vec:        \n",
    "        plt.plot([-0.5, D-0.5], [offset, offset], '-k')\n",
    "        plt.plot([offset, offset], [-0.5, D-0.5], '-k')\n",
    "        offset += nf\n",
    "    plt.xticks([])\n",
    "    plt.yticks([])\n",
    "    plt.title('Actual State '+str(k))"
   ]
  },
  {
   "cell_type": "markdown",
   "metadata": {
    "colab_type": "text",
    "id": "-Y7R3y6TRFRF"
   },
   "source": [
    "### Discrete states ($z$)"
   ]
  },
  {
   "cell_type": "code",
   "execution_count": 9,
   "metadata": {
    "colab": {
     "base_uri": "https://localhost:8080/",
     "height": 177
    },
    "colab_type": "code",
    "id": "Wmk2_uI-RFRG",
    "outputId": "2f434446-fbaf-4a00-d186-81a557b35011"
   },
   "outputs": [
    {
     "data": {
      "text/plain": [
       "([], <a list of 0 Text major ticklabel objects>)"
      ]
     },
     "execution_count": 9,
     "metadata": {},
     "output_type": "execute_result"
    },
    {
     "data": {
      "image/png": "[encoded data removed]",
      "text/plain": [
       "<Figure size 576x288 with 1 Axes>"
      ]
     },
     "metadata": {},
     "output_type": "display_data"
    }
   ],
   "source": [
    "plt.figure(figsize=(8, 4))\n",
    "plt.subplot(211)\n",
    "plt.imshow(zs[None,:], aspect=\"auto\", cmap=cmap, vmin=0, vmax=len(colors)-1)\n",
    "plt.xlim(0, t_end)\n",
    "plt.ylabel(\"$z_{\\\\mathrm{true}}$\")\n",
    "plt.yticks([])"
   ]
  },
  {
   "cell_type": "markdown",
   "metadata": {
    "colab_type": "text",
    "id": "ufQwDDKTRFRI"
   },
   "source": [
    "### Transitions (in a shorter time window)\n",
    "The contribution of population $j$ to staying in a state is $S_j x^{j}$ and the contribution to switching to a state is $R_j x^{j}$"
   ]
  },
  {
   "cell_type": "code",
   "execution_count": 10,
   "metadata": {
    "colab": {},
    "colab_type": "code",
    "id": "fp1QQ_7dRFRI"
   },
   "outputs": [],
   "source": [
    "dur=200\n",
    "st_t=650\n",
    "end_t=st_t+dur"
   ]
  },
  {
   "cell_type": "code",
   "execution_count": 11,
   "metadata": {
    "colab": {
     "base_uri": "https://localhost:8080/",
     "height": 310
    },
    "colab_type": "code",
    "id": "-FWpoP7-RFRK",
    "outputId": "bcc60411-fb9e-44d0-bc16-e382fe7919aa"
   },
   "outputs": [
    {
     "data": {
      "text/plain": [
       "([], <a list of 0 Text major ticklabel objects>)"
      ]
     },
     "execution_count": 11,
     "metadata": {},
     "output_type": "execute_result"
    },
    {
     "data": {
      "image/png": "[encoded data removed]",
      "text/plain": [
       "<Figure size 576x288 with 2 Axes>"
      ]
     },
     "metadata": {},
     "output_type": "display_data"
    }
   ],
   "source": [
    "plt.figure(figsize=(8, 4))\n",
    "\n",
    "j=0\n",
    "\n",
    "plt.subplot(211)\n",
    "for g in range(K):\n",
    "    plt.plot(np.dot(xs[st_t:end_t,D_vec_cumsum[g]:D_vec_cumsum[g+1]],true_slds.transitions.Rs[j,D_vec_cumsum[g]:D_vec_cumsum[g+1]].T))\n",
    "plt.xlim(0, dur)\n",
    "plt.ylabel('Contribution towards \\n switching to \\n purple state',rotation=60)\n",
    "plt.xticks([])\n",
    "plt.yticks([])\n",
    "\n",
    "j=1\n",
    "plt.subplot(212)\n",
    "for g in range(K):\n",
    "    plt.plot(np.dot(xs[st_t:end_t,D_vec_cumsum[g]:D_vec_cumsum[g+1]],true_slds.transitions.Ss[j,D_vec_cumsum[g]:D_vec_cumsum[g+1]].T))\n",
    "plt.xlim(0, dur)\n",
    "plt.ylabel('Contribution towards \\n staying in red state',rotation=60)\n",
    "plt.legend(['Pop 1','Pop 2','Pop 3'])\n",
    "plt.yticks([])"
   ]
  },
  {
   "cell_type": "markdown",
   "metadata": {
    "colab_type": "text",
    "id": "wOO48DPARFRN"
   },
   "source": [
    "### Continuous latents ($x$) and spikes ($y$) for an example population"
   ]
  },
  {
   "cell_type": "code",
   "execution_count": 12,
   "metadata": {
    "colab": {
     "base_uri": "https://localhost:8080/",
     "height": 449
    },
    "colab_type": "code",
    "id": "YllKBbdhRFRN",
    "outputId": "dc7f9218-0100-4263-8501-9d2fb1696a9e"
   },
   "outputs": [
    {
     "data": {
      "text/plain": [
       "[<matplotlib.lines.Line2D at 0x7fd7d1ac05d0>,\n",
       " <matplotlib.lines.Line2D at 0x7fd7d1ac0790>,\n",
       " <matplotlib.lines.Line2D at 0x7fd7d1ac0c50>,\n",
       " <matplotlib.lines.Line2D at 0x7fd7d1ac0a50>,\n",
       " <matplotlib.lines.Line2D at 0x7fd7d1ac0750>,\n",
       " <matplotlib.lines.Line2D at 0x7fd7d1ac0e50>,\n",
       " <matplotlib.lines.Line2D at 0x7fd7d1ac0450>,\n",
       " <matplotlib.lines.Line2D at 0x7fd7d1ac0250>,\n",
       " <matplotlib.lines.Line2D at 0x7fd7d1ac0990>,\n",
       " <matplotlib.lines.Line2D at 0x7fd7d1ac0ed0>]"
      ]
     },
     "execution_count": 12,
     "metadata": {},
     "output_type": "execute_result"
    },
    {
     "data": {
      "image/png": "[encoded data removed]",
      "text/plain": [
       "<Figure size 576x288 with 2 Axes>"
      ]
     },
     "metadata": {},
     "output_type": "display_data"
    }
   ],
   "source": [
    "plt.figure(figsize=(8, 4))\n",
    "\n",
    "plt.subplot(211)\n",
    "plt.plot(xs[st_t:end_t,:num_per_gr]) #Show latents of first group\n",
    "plt.xticks([])\n",
    "\n",
    "plt.subplot(212)\n",
    "plt.plot(ys[st_t:end_t,:10]) #Show first 10 neurons\n"
   ]
  },
  {
   "cell_type": "markdown",
   "metadata": {
    "colab_type": "text",
    "id": "OZ_iLjiyRFRV"
   },
   "source": [
    "## Fit model to data"
   ]
  },
  {
   "cell_type": "markdown",
   "metadata": {
    "colab_type": "text",
    "id": "g6QfY0j-RFRV"
   },
   "source": [
    "#### To create the emissions classes for the multipopulation models, we need vectors containing the number of continuous latents per population (\"D_vec\") and neurons per population (\"N_vec\")\n"
   ]
  },
  {
   "cell_type": "code",
   "execution_count": 13,
   "metadata": {
    "colab": {},
    "colab_type": "code",
    "id": "kVZDXyIiRFRW"
   },
   "outputs": [],
   "source": [
    "num_gr=3 #Number of populations\n",
    "num_per_gr=5 #Number of latents per population\n",
    "neur_per_gr=75 #Number of neurons per population\n",
    "\n",
    "#Vector containing number of latents per population\n",
    "D_vec=[]\n",
    "for i in range(num_gr):\n",
    "    D_vec.append(num_per_gr) \n",
    "\n",
    "#Vector containing number of neurons per population\n",
    "N_vec=[]\n",
    "for i in range(num_gr):\n",
    "    N_vec.append(neur_per_gr)"
   ]
  },
  {
   "cell_type": "markdown",
   "metadata": {
    "colab_type": "text",
    "id": "_I-JFqbHRFRZ"
   },
   "source": [
    "#### Now create the multipopulation emissions and transitions classes for our model"
   ]
  },
  {
   "cell_type": "code",
   "execution_count": 14,
   "metadata": {
    "colab": {},
    "colab_type": "code",
    "id": "dhnavgIgRFRa"
   },
   "outputs": [],
   "source": [
    "#Get new multipopulation emissions class\n",
    "poiss_comp_emissions=PoissonOrthogonalCompoundEmissions(N=np.sum(N_vec),K=1,D=np.sum(D_vec),D_vec=D_vec,N_vec=N_vec,link='softplus')\n",
    "\n",
    "#Get new transitions class\n",
    "sro_trans=StickyRecurrentOnlyTransitions(K=K,D=np.sum(D_vec), l2_penalty_similarity=10, l1_penalty=10) \n",
    "#The above l2 penalty is on the similarity between R and S (its assuming the activity to switch into a state is similar to activity to stay in a state)\n",
    "#The L1 penalty is on the entries of R and S"
   ]
  },
  {
   "cell_type": "markdown",
   "metadata": {
    "colab_type": "text",
    "id": "syHDAea_RFRc"
   },
   "source": [
    "#### Now declare and fit the model"
   ]
  },
  {
   "cell_type": "code",
   "execution_count": null,
   "metadata": {
    "colab": {
     "base_uri": "https://localhost:8080/",
     "height": 166,
     "referenced_widgets": [
      "36b4e6c4b2064572a4412f8bc298caeb",
      "97247a689ff744689528aa9555c13c62",
      "581b2c1a39eb439581308a5cdea07389",
      "e8e6a6b80ed14b77900e87e1c779f459",
      "2e200ca5be3141f2b2ee041ec8b08e49",
      "f4e534f4d6ac45c6a7da04be7d341968",
      "ced98407e9ee4ee4bd0baaa24d4765b9",
      "14de5bf9b23f47d4867e135cf156ac97",
      "6bd4692a8c95492d84f6353069342d4f",
      "62f38f8736314a098f91d7486b5b84f6",
      "d7ffd5a5a8874c2d8e593cb29c8f14b2",
      "2ddbbe21934547db9e365d905ea1f024",
      "19ad77a391f7459f811262d5bdbeb783",
      "5da21c8eac7041898c7a468f0388e632",
      "eb1c51978e0f4b79968cf6618a959007",
      "c0204fcad9f64dd48580f7d17767abc6"
     ]
    },
    "colab_type": "code",
    "id": "n7WRqQufRFRd",
    "outputId": "28ddbaaa-221c-4ca8-db59-b76bbeff1dd0"
   },
   "outputs": [
    {
     "data": {
      "application/vnd.jupyter.widget-view+json": {
       "model_id": "4958a3c264c84a389c0fb35294fd8ab2",
       "version_major": 2,
       "version_minor": 0
      },
      "text/plain": [
       "HBox(children=(FloatProgress(value=0.0, max=10.0), HTML(value='')))"
      ]
     },
     "metadata": {},
     "output_type": "display_data"
    },
    {
     "name": "stdout",
     "output_type": "stream",
     "text": [
      "Initializing with an ARHMM using 25 steps of EM.\n"
     ]
    },
    {
     "data": {
      "application/vnd.jupyter.widget-view+json": {
       "model_id": "a92ab470e3c04f0b857ca0054443225d",
       "version_major": 2,
       "version_minor": 0
      },
      "text/plain": [
       "HBox(children=(FloatProgress(value=0.0, max=25.0), HTML(value='')))"
      ]
     },
     "metadata": {},
     "output_type": "display_data"
    },
    {
     "name": "stdout",
     "output_type": "stream",
     "text": [
      "\n",
      "Initializing with an ARHMM using 25 steps of EM.\n"
     ]
    },
    {
     "data": {
      "application/vnd.jupyter.widget-view+json": {
       "model_id": "d88d919384d442d78033ce91bc642974",
       "version_major": 2,
       "version_minor": 0
      },
      "text/plain": [
       "HBox(children=(FloatProgress(value=0.0, max=25.0), HTML(value='')))"
      ]
     },
     "metadata": {},
     "output_type": "display_data"
    },
    {
     "name": "stdout",
     "output_type": "stream",
     "text": [
      "\n",
      "Initializing with an ARHMM using 25 steps of EM.\n"
     ]
    },
    {
     "data": {
      "application/vnd.jupyter.widget-view+json": {
       "model_id": "4014c71eb8a74046b42e8ac235e8b377",
       "version_major": 2,
       "version_minor": 0
      },
      "text/plain": [
       "HBox(children=(FloatProgress(value=0.0, max=25.0), HTML(value='')))"
      ]
     },
     "metadata": {},
     "output_type": "display_data"
    },
    {
     "name": "stdout",
     "output_type": "stream",
     "text": [
      "\n",
      "Initializing with an ARHMM using 25 steps of EM.\n"
     ]
    },
    {
     "data": {
      "application/vnd.jupyter.widget-view+json": {
       "model_id": "9ef0f3154348407388ed60bdefb1a57a",
       "version_major": 2,
       "version_minor": 0
      },
      "text/plain": [
       "HBox(children=(FloatProgress(value=0.0, max=25.0), HTML(value='')))"
      ]
     },
     "metadata": {},
     "output_type": "display_data"
    },
    {
     "name": "stdout",
     "output_type": "stream",
     "text": [
      "\n",
      "Initializing with an ARHMM using 25 steps of EM.\n"
     ]
    },
    {
     "data": {
      "application/vnd.jupyter.widget-view+json": {
       "model_id": "6bee3da70bfb46339124afb36e7b8137",
       "version_major": 2,
       "version_minor": 0
      },
      "text/plain": [
       "HBox(children=(FloatProgress(value=0.0, max=25.0), HTML(value='')))"
      ]
     },
     "metadata": {},
     "output_type": "display_data"
    },
    {
     "name": "stdout",
     "output_type": "stream",
     "text": [
      "\n",
      "Initializing with an ARHMM using 25 steps of EM.\n"
     ]
    },
    {
     "data": {
      "application/vnd.jupyter.widget-view+json": {
       "model_id": "bc9a6292061748f19e634dc9bd0bb1a7",
       "version_major": 2,
       "version_minor": 0
      },
      "text/plain": [
       "HBox(children=(FloatProgress(value=0.0, max=25.0), HTML(value='')))"
      ]
     },
     "metadata": {},
     "output_type": "display_data"
    },
    {
     "name": "stdout",
     "output_type": "stream",
     "text": [
      "\n",
      "Initializing with an ARHMM using 25 steps of EM.\n"
     ]
    },
    {
     "data": {
      "application/vnd.jupyter.widget-view+json": {
       "model_id": "79ffbc7e80974938bb0ef39692688877",
       "version_major": 2,
       "version_minor": 0
      },
      "text/plain": [
       "HBox(children=(FloatProgress(value=0.0, max=25.0), HTML(value='')))"
      ]
     },
     "metadata": {},
     "output_type": "display_data"
    },
    {
     "name": "stdout",
     "output_type": "stream",
     "text": [
      "\n",
      "Initializing with an ARHMM using 25 steps of EM.\n"
     ]
    },
    {
     "data": {
      "application/vnd.jupyter.widget-view+json": {
       "model_id": "53dfa3b58ed5468d92f5a6a593cc52ee",
       "version_major": 2,
       "version_minor": 0
      },
      "text/plain": [
       "HBox(children=(FloatProgress(value=0.0, max=25.0), HTML(value='')))"
      ]
     },
     "metadata": {},
     "output_type": "display_data"
    },
    {
     "name": "stdout",
     "output_type": "stream",
     "text": [
      "\n",
      "Initializing with an ARHMM using 25 steps of EM.\n"
     ]
    },
    {
     "data": {
      "application/vnd.jupyter.widget-view+json": {
       "model_id": "97b9bb632e1b4c1f803195a5de57e446",
       "version_major": 2,
       "version_minor": 0
      },
      "text/plain": [
       "HBox(children=(FloatProgress(value=0.0, max=25.0), HTML(value='')))"
      ]
     },
     "metadata": {},
     "output_type": "display_data"
    },
    {
     "name": "stdout",
     "output_type": "stream",
     "text": [
      "\n",
      "Initializing with an ARHMM using 25 steps of EM.\n"
     ]
    },
    {
     "data": {
      "application/vnd.jupyter.widget-view+json": {
       "model_id": "e2ad20628df5475d9f886e9d249db022",
       "version_major": 2,
       "version_minor": 0
      },
      "text/plain": [
       "HBox(children=(FloatProgress(value=0.0, max=25.0), HTML(value='')))"
      ]
     },
     "metadata": {},
     "output_type": "display_data"
    },
    {
     "name": "stdout",
     "output_type": "stream",
     "text": [
      "\n",
      "\n"
     ]
    },
    {
     "data": {
      "application/vnd.jupyter.widget-view+json": {
       "model_id": "f2c7a9ee1ca244bc97c0c184345fa832",
       "version_major": 2,
       "version_minor": 0
      },
      "text/plain": [
       "HBox(children=(FloatProgress(value=0.0, max=30.0), HTML(value='')))"
      ]
     },
     "metadata": {},
     "output_type": "display_data"
    }
   ],
   "source": [
    "K=3 #Number of discrete states\n",
    "\n",
    "rslds = ssm.SLDS(N=np.sum(N_vec),K=K,D=np.sum(D_vec),\n",
    "             dynamics=\"gaussian\",\n",
    "             emissions=poiss_comp_emissions,\n",
    "             transitions=sro_trans,\n",
    "             dynamics_kwargs=dict(l2_penalty_A=100)) #Regularization on the dynamics matrix\n",
    "\n",
    "q_elbos_ar, q_ar = rslds.fit(ys, method=\"laplace_em\",\n",
    "                             variational_posterior=\"structured_meanfield\", \n",
    "                             continuous_optimizer='newton',\n",
    "                             initialize=True, \n",
    "                             num_init_restarts=10,\n",
    "                             num_iters=30, \n",
    "                             alpha=0.25)"
   ]
  },
  {
   "cell_type": "code",
   "execution_count": null,
   "metadata": {
    "colab": {},
    "colab_type": "code",
    "id": "Oi8-3NcxRFRf",
    "outputId": "98075512-a594-4bae-fcf3-550affe796a6"
   },
   "outputs": [],
   "source": [
    "plt.plot(q_elbos_ar[1:])\n",
    "plt.xlabel(\"Iteration\")\n",
    "plt.ylabel(\"ELBO\")"
   ]
  },
  {
   "cell_type": "markdown",
   "metadata": {},
   "source": [
    "## Align solution with simulation for plotting"
   ]
  },
  {
   "cell_type": "code",
   "execution_count": null,
   "metadata": {},
   "outputs": [],
   "source": [
    "#The recovered discrete states can be permuted in any way. \n",
    "#Find permutation to match the discrete states in the model and the ground truth\n",
    "z_inferred=rslds.most_likely_states(q_ar.mean_continuous_states[0],ys)\n",
    "rslds.permute(find_permutation(zs, z_inferred))\n",
    "z_inferred2=rslds.most_likely_states(q_ar.mean_continuous_states[0],ys)"
   ]
  },
  {
   "cell_type": "code",
   "execution_count": null,
   "metadata": {},
   "outputs": [],
   "source": [
    "#Each population's latents can be multiplied by an arbitrary rotation matrix\n",
    "#Additionally, there may be a change in scaling between the simulation ground truth and recovered latents,\n",
    "#because the simulation didn't constrain the effective emissions (C) matrix to be orthonormal like in the model\n",
    "\n",
    "from sklearn.linear_model import LinearRegression\n",
    "\n",
    "R=np.zeros([D,D])\n",
    "for g in range(num_gr):\n",
    "    lr=LinearRegression(fit_intercept=False)\n",
    "    lr.fit(q_ar.mean_continuous_states[0][:,D_vec_cumsum[g]:D_vec_cumsum[g+1]],xs[:,D_vec_cumsum[g]:D_vec_cumsum[g+1]])\n",
    "    R[D_vec_cumsum[g]:D_vec_cumsum[g+1],D_vec_cumsum[g]:D_vec_cumsum[g+1]]=lr.coef_"
   ]
  },
  {
   "cell_type": "markdown",
   "metadata": {
    "colab_type": "text",
    "id": "0CjkFH63RFRh"
   },
   "source": [
    "## Plot results"
   ]
  },
  {
   "cell_type": "markdown",
   "metadata": {
    "colab_type": "text",
    "id": "HDlMQx4ZRFRh"
   },
   "source": [
    "### Discrete states ($z$)"
   ]
  },
  {
   "cell_type": "code",
   "execution_count": null,
   "metadata": {
    "colab": {},
    "colab_type": "code",
    "id": "TGk3zoBVRFRi",
    "outputId": "d1cebd3c-17f7-4e48-a6d3-0b9f34fbd3af"
   },
   "outputs": [],
   "source": [
    "plt.figure(figsize=(8, 4))\n",
    "plt.subplot(211)\n",
    "plt.imshow(zs[None,:], aspect=\"auto\", cmap=cmap, vmin=0, vmax=len(colors)-1)\n",
    "plt.xlim(0, t_end)\n",
    "plt.ylabel(\"$z_{\\\\mathrm{true}}$\")\n",
    "plt.yticks([])\n",
    "\n",
    "plt.subplot(212)\n",
    "plt.imshow(z_inferred2[None,:], aspect=\"auto\", cmap=cmap, vmin=0, vmax=len(colors)-1)\n",
    "plt.xlim(0, t_end)\n",
    "plt.ylabel(\"$z_{\\\\mathrm{inferred}}$\")\n",
    "plt.yticks([])\n",
    "plt.xlabel(\"time\")\n",
    "\n",
    "plt.tight_layout()"
   ]
  },
  {
   "cell_type": "code",
   "execution_count": null,
   "metadata": {
    "colab": {},
    "colab_type": "code",
    "id": "HRPr3DJlRFRj",
    "outputId": "1d6b402b-fa6d-4040-f4bf-4e4c2188c8b8"
   },
   "outputs": [],
   "source": [
    "print('Discrete state accuracy: ', np.mean(zs==z_inferred2))"
   ]
  },
  {
   "cell_type": "markdown",
   "metadata": {
    "colab_type": "text",
    "id": "SX1go1AyRFRl"
   },
   "source": [
    "#### Shorter time window"
   ]
  },
  {
   "cell_type": "code",
   "execution_count": null,
   "metadata": {
    "colab": {},
    "colab_type": "code",
    "id": "UhjVHiYzRFRm",
    "outputId": "5d4cf636-9055-46fe-af2b-d51531c97317"
   },
   "outputs": [],
   "source": [
    "plt.figure(figsize=(4, 2))\n",
    "plt.subplot(211)\n",
    "plt.imshow(zs[None,st_t:end_t], aspect=\"auto\", cmap=cmap, vmin=0, vmax=len(colors)-1)\n",
    "plt.xlim(0, dur)\n",
    "plt.ylabel(\"$z_{\\\\mathrm{true}}$\")\n",
    "plt.yticks([])\n",
    "plt.xticks([])\n",
    "\n",
    "plt.subplot(212)\n",
    "plt.imshow(z_inferred2[None,st_t:end_t], aspect=\"auto\", cmap=cmap, vmin=0, vmax=len(colors)-1)\n",
    "plt.xlim(0, dur)\n",
    "plt.ylabel(\"$z_{\\\\mathrm{inferred}}$\")\n",
    "plt.yticks([])"
   ]
  },
  {
   "cell_type": "markdown",
   "metadata": {
    "colab_type": "text",
    "id": "e4Cz1o8GRFRo"
   },
   "source": [
    "### Dynamics matrices ($A^z$)"
   ]
  },
  {
   "cell_type": "markdown",
   "metadata": {},
   "source": [
    "We show the A matrix from when the continuous latents are aligned to ground truth, demonstrating the ability to recover the ground truth dynamics.\n",
    "\n",
    "We also show the original recovered A matrix, which demonstrates that we can learn about the block structure, regardless of scaling/rotations."
   ]
  },
  {
   "cell_type": "code",
   "execution_count": null,
   "metadata": {
    "colab": {},
    "colab_type": "code",
    "id": "0D2QHaLRRFRo",
    "outputId": "891cf1a1-4aea-4c5f-f2d5-9895478b5361"
   },
   "outputs": [],
   "source": [
    "plt.figure(figsize=(12, 12))\n",
    "\n",
    "q=1\n",
    "\n",
    "for k in range(K):\n",
    "    \n",
    "    plt.subplot(3,3,q)\n",
    "    plt.imshow(true_slds.dynamics.As[k], aspect='auto', interpolation=\"none\", vmin=-.5, vmax=.5, cmap='RdBu')\n",
    "    offset=-.5\n",
    "    for nf in D_vec:        \n",
    "        plt.plot([-0.5, D-0.5], [offset, offset], '-k')\n",
    "        plt.plot([offset, offset], [-0.5, D-0.5], '-k')\n",
    "        offset += nf\n",
    "    plt.xticks([])\n",
    "    plt.yticks([])\n",
    "    plt.title('Actual State '+str(k))\n",
    "    \n",
    "    q=q+1\n",
    "\n",
    "    plt.subplot(3,3,q)\n",
    "#     plt.imshow(rslds.dynamics.As[k], aspect='auto', interpolation=\"none\", vmin=-.5, vmax=.5, cmap='RdBu')\n",
    "    plt.imshow(R@rslds.dynamics.As[k]@np.linalg.inv(R), aspect='auto', interpolation=\"none\", vmin=-.5, vmax=.5, cmap='RdBu')\n",
    "\n",
    "    offset=-.5\n",
    "    for nf in D_vec:        \n",
    "        plt.plot([-0.5, D-0.5], [offset, offset], '-k')\n",
    "        plt.plot([offset, offset], [-0.5, D-0.5], '-k')\n",
    "        offset += nf\n",
    "    plt.xticks([])\n",
    "    plt.yticks([])\n",
    "    plt.title('Aligned Predicted State '+str(k))\n",
    "#     plt.savefig(folder+'dyn_est'+str(k)+'.pdf')    \n",
    "\n",
    "    q=q+1\n",
    "\n",
    "\n",
    "    plt.subplot(3,3,q)\n",
    "#     plt.imshow(rslds.dynamics.As[k], aspect='auto', interpolation=\"none\", vmin=-.5, vmax=.5, cmap='RdBu')\n",
    "    plt.imshow(rslds.dynamics.As[k], aspect='auto', interpolation=\"none\", vmin=-.5, vmax=.5, cmap='RdBu')\n",
    "\n",
    "    offset=-.5\n",
    "    for nf in D_vec:        \n",
    "        plt.plot([-0.5, D-0.5], [offset, offset], '-k')\n",
    "        plt.plot([offset, offset], [-0.5, D-0.5], '-k')\n",
    "        offset += nf\n",
    "    plt.xticks([])\n",
    "    plt.yticks([])\n",
    "    plt.title('Raw Predicted State '+str(k))\n",
    "#     plt.savefig(folder+'dyn_est'+str(k)+'.pdf')\n",
    "    \n",
    "    q=q+1\n",
    "    \n",
    "    \n",
    "\n",
    "        \n"
   ]
  },
  {
   "cell_type": "markdown",
   "metadata": {
    "colab_type": "text",
    "id": "b14UYWuMRFRr"
   },
   "source": [
    "### Transitions\n",
    "The contribution of population $j$ to staying in a state is $S_j x^{j}$ and the contribution to switching to a state is $R_j x^{j}$\n"
   ]
  },
  {
   "cell_type": "code",
   "execution_count": null,
   "metadata": {
    "colab": {},
    "colab_type": "code",
    "id": "hja_9YLPRFRr",
    "outputId": "6eb42921-5277-43ea-b14b-2366d2128509"
   },
   "outputs": [],
   "source": [
    "plt.figure(figsize=(15, 4))\n",
    "\n",
    "\n",
    "### Actual\n",
    "\n",
    "j=0\n",
    "\n",
    "plt.subplot(221)\n",
    "for g in range(K):\n",
    "    plt.plot(np.dot(xs[st_t:end_t,D_vec_cumsum[g]:D_vec_cumsum[g+1]],true_slds.transitions.Rs[j,D_vec_cumsum[g]:D_vec_cumsum[g+1]].T))\n",
    "plt.xlim(0, dur)\n",
    "plt.ylabel('Contribution towards \\n switching to \\n purple state',rotation=60)\n",
    "plt.xticks([])\n",
    "plt.yticks([])\n",
    "plt.title('Actual')\n",
    "\n",
    "j=1\n",
    "plt.subplot(223)\n",
    "for g in range(K):\n",
    "    plt.plot(np.dot(xs[st_t:end_t,D_vec_cumsum[g]:D_vec_cumsum[g+1]],true_slds.transitions.Ss[j,D_vec_cumsum[g]:D_vec_cumsum[g+1]].T))\n",
    "plt.xlim(0, dur)\n",
    "plt.ylabel('Contribution towards \\n staying in red state',rotation=60)\n",
    "plt.legend(['Pop 1','Pop 2','Pop 3'])\n",
    "plt.yticks([])\n",
    "\n",
    "\n",
    "\n",
    "\n",
    "### Predicted\n",
    "\n",
    "j=0\n",
    "\n",
    "plt.subplot(222)\n",
    "for g in range(K):\n",
    "    plt.plot(np.dot(q_ar.mean_continuous_states[0][st_t:end_t,D_vec_cumsum[g]:D_vec_cumsum[g+1]],rslds.transitions.Rs[j,D_vec_cumsum[g]:D_vec_cumsum[g+1]].T))\n",
    "plt.xlim(0, dur)\n",
    "# plt.ylabel('Contribution towards \\n switching to \\n purple state',rotation=60)\n",
    "plt.xticks([])\n",
    "plt.yticks([])\n",
    "plt.title('Predicted')\n",
    "\n",
    "j=1\n",
    "plt.subplot(224)\n",
    "for g in range(K):\n",
    "    plt.plot(np.dot(q_ar.mean_continuous_states[0][st_t:end_t,D_vec_cumsum[g]:D_vec_cumsum[g+1]],rslds.transitions.Ss[j,D_vec_cumsum[g]:D_vec_cumsum[g+1]].T))\n",
    "plt.xlim(0, dur)\n",
    "# plt.ylabel('Stay in Red')\n",
    "# plt.xticks([])\n",
    "plt.yticks([])"
   ]
  },
  {
   "cell_type": "markdown",
   "metadata": {
    "colab_type": "text",
    "id": "yz4GSxjrRFRt"
   },
   "source": [
    "### Example fit of neural activity ($y$)"
   ]
  },
  {
   "cell_type": "code",
   "execution_count": null,
   "metadata": {
    "colab": {},
    "colab_type": "code",
    "id": "cgEffzVKRFRt",
    "outputId": "10d64661-8fbd-4259-96fc-134c35980b88"
   },
   "outputs": [],
   "source": [
    "preds=rslds.smooth(q_ar.mean_continuous_states[0],ys) #get predictions\n",
    "\n",
    "nrn=0 #Example neuron\n",
    "plt.plot(ys[st_t:end_t,nrn],alpha=.5) #true spiking activity\n",
    "plt.plot(lams[st_t:end_t,nrn]) #true firing rate\n",
    "plt.plot(preds[st_t:end_t,nrn]) #predicted firing\n",
    "\n",
    "plt.legend(['True Spikes','True FR','Predicted FR'])\n"
   ]
  }
 ],
 "metadata": {
  "anaconda-cloud": {},
  "colab": {
   "include_colab_link": true,
   "name": "mp_rslds_simulation-Copy1.ipynb",
   "provenance": []
  },
  "kernelspec": {
   "display_name": "Python 3",
   "language": "python",
   "name": "python3"
  },
  "language_info": {
   "codemirror_mode": {
    "name": "ipython",
    "version": 3
   },
   "file_extension": ".py",
   "mimetype": "text/x-python",
   "name": "python",
   "nbconvert_exporter": "python",
   "pygments_lexer": "ipython3",
   "version": "3.7.7"
  },
  "widgets": {
   "application/vnd.jupyter.widget-state+json": {
    "14de5bf9b23f47d4867e135cf156ac97": {
     "model_module": "@jupyter-widgets/base",
     "model_name": "LayoutModel",
     "state": {
      "_model_module": "@jupyter-widgets/base",
      "_model_module_version": "1.2.0",
      "_model_name": "LayoutModel",
      "_view_count": null,
      "_view_module": "@jupyter-widgets/base",
      "_view_module_version": "1.2.0",
      "_view_name": "LayoutView",
      "align_content": null,
      "align_items": null,
      "align_self": null,
      "border": null,
      "bottom": null,
      "display": null,
      "flex": null,
      "flex_flow": null,
      "grid_area": null,
      "grid_auto_columns": null,
      "grid_auto_flow": null,
      "grid_auto_rows": null,
      "grid_column": null,
      "grid_gap": null,
      "grid_row": null,
      "grid_template_areas": null,
      "grid_template_columns": null,
      "grid_template_rows": null,
      "height": null,
      "justify_content": null,
      "justify_items": null,
      "left": null,
      "margin": null,
      "max_height": null,
      "max_width": null,
      "min_height": null,
      "min_width": null,
      "object_fit": null,
      "object_position": null,
      "order": null,
      "overflow": null,
      "overflow_x": null,
      "overflow_y": null,
      "padding": null,
      "right": null,
      "top": null,
      "visibility": null,
      "width": null
     }
    },
    "19ad77a391f7459f811262d5bdbeb783": {
     "model_module": "@jupyter-widgets/controls",
     "model_name": "ProgressStyleModel",
     "state": {
      "_model_module": "@jupyter-widgets/controls",
      "_model_module_version": "1.5.0",
      "_model_name": "ProgressStyleModel",
      "_view_count": null,
      "_view_module": "@jupyter-widgets/base",
      "_view_module_version": "1.2.0",
      "_view_name": "StyleView",
      "bar_color": null,
      "description_width": "initial"
     }
    },
    "2ddbbe21934547db9e365d905ea1f024": {
     "model_module": "@jupyter-widgets/controls",
     "model_name": "HTMLModel",
     "state": {
      "_dom_classes": [],
      "_model_module": "@jupyter-widgets/controls",
      "_model_module_version": "1.5.0",
      "_model_name": "HTMLModel",
      "_view_count": null,
      "_view_module": "@jupyter-widgets/controls",
      "_view_module_version": "1.5.0",
      "_view_name": "HTMLView",
      "description": "",
      "description_tooltip": null,
      "layout": "IPY_MODEL_c0204fcad9f64dd48580f7d17767abc6",
      "placeholder": "​",
      "style": "IPY_MODEL_eb1c51978e0f4b79968cf6618a959007",
      "value": " 26/30 [03:25&lt;00:27,  6.97s/it]"
     }
    },
    "2e200ca5be3141f2b2ee041ec8b08e49": {
     "model_module": "@jupyter-widgets/controls",
     "model_name": "ProgressStyleModel",
     "state": {
      "_model_module": "@jupyter-widgets/controls",
      "_model_module_version": "1.5.0",
      "_model_name": "ProgressStyleModel",
      "_view_count": null,
      "_view_module": "@jupyter-widgets/base",
      "_view_module_version": "1.2.0",
      "_view_name": "StyleView",
      "bar_color": null,
      "description_width": "initial"
     }
    },
    "36b4e6c4b2064572a4412f8bc298caeb": {
     "model_module": "@jupyter-widgets/controls",
     "model_name": "HBoxModel",
     "state": {
      "_dom_classes": [],
      "_model_module": "@jupyter-widgets/controls",
      "_model_module_version": "1.5.0",
      "_model_name": "HBoxModel",
      "_view_count": null,
      "_view_module": "@jupyter-widgets/controls",
      "_view_module_version": "1.5.0",
      "_view_name": "HBoxView",
      "box_style": "",
      "children": [
       "IPY_MODEL_581b2c1a39eb439581308a5cdea07389",
       "IPY_MODEL_e8e6a6b80ed14b77900e87e1c779f459"
      ],
      "layout": "IPY_MODEL_97247a689ff744689528aa9555c13c62"
     }
    },
    "581b2c1a39eb439581308a5cdea07389": {
     "model_module": "@jupyter-widgets/controls",
     "model_name": "FloatProgressModel",
     "state": {
      "_dom_classes": [],
      "_model_module": "@jupyter-widgets/controls",
      "_model_module_version": "1.5.0",
      "_model_name": "FloatProgressModel",
      "_view_count": null,
      "_view_module": "@jupyter-widgets/controls",
      "_view_module_version": "1.5.0",
      "_view_name": "ProgressView",
      "bar_style": "success",
      "description": "LP: -85209.7: 100%",
      "description_tooltip": null,
      "layout": "IPY_MODEL_f4e534f4d6ac45c6a7da04be7d341968",
      "max": 25,
      "min": 0,
      "orientation": "horizontal",
      "style": "IPY_MODEL_2e200ca5be3141f2b2ee041ec8b08e49",
      "value": 25
     }
    },
    "5da21c8eac7041898c7a468f0388e632": {
     "model_module": "@jupyter-widgets/base",
     "model_name": "LayoutModel",
     "state": {
      "_model_module": "@jupyter-widgets/base",
      "_model_module_version": "1.2.0",
      "_model_name": "LayoutModel",
      "_view_count": null,
      "_view_module": "@jupyter-widgets/base",
      "_view_module_version": "1.2.0",
      "_view_name": "LayoutView",
      "align_content": null,
      "align_items": null,
      "align_self": null,
      "border": null,
      "bottom": null,
      "display": null,
      "flex": null,
      "flex_flow": null,
      "grid_area": null,
      "grid_auto_columns": null,
      "grid_auto_flow": null,
      "grid_auto_rows": null,
      "grid_column": null,
      "grid_gap": null,
      "grid_row": null,
      "grid_template_areas": null,
      "grid_template_columns": null,
      "grid_template_rows": null,
      "height": null,
      "justify_content": null,
      "justify_items": null,
      "left": null,
      "margin": null,
      "max_height": null,
      "max_width": null,
      "min_height": null,
      "min_width": null,
      "object_fit": null,
      "object_position": null,
      "order": null,
      "overflow": null,
      "overflow_x": null,
      "overflow_y": null,
      "padding": null,
      "right": null,
      "top": null,
      "visibility": null,
      "width": null
     }
    },
    "62f38f8736314a098f91d7486b5b84f6": {
     "model_module": "@jupyter-widgets/base",
     "model_name": "LayoutModel",
     "state": {
      "_model_module": "@jupyter-widgets/base",
      "_model_module_version": "1.2.0",
      "_model_name": "LayoutModel",
      "_view_count": null,
      "_view_module": "@jupyter-widgets/base",
      "_view_module_version": "1.2.0",
      "_view_name": "LayoutView",
      "align_content": null,
      "align_items": null,
      "align_self": null,
      "border": null,
      "bottom": null,
      "display": null,
      "flex": null,
      "flex_flow": null,
      "grid_area": null,
      "grid_auto_columns": null,
      "grid_auto_flow": null,
      "grid_auto_rows": null,
      "grid_column": null,
      "grid_gap": null,
      "grid_row": null,
      "grid_template_areas": null,
      "grid_template_columns": null,
      "grid_template_rows": null,
      "height": null,
      "justify_content": null,
      "justify_items": null,
      "left": null,
      "margin": null,
      "max_height": null,
      "max_width": null,
      "min_height": null,
      "min_width": null,
      "object_fit": null,
      "object_position": null,
      "order": null,
      "overflow": null,
      "overflow_x": null,
      "overflow_y": null,
      "padding": null,
      "right": null,
      "top": null,
      "visibility": null,
      "width": null
     }
    },
    "6bd4692a8c95492d84f6353069342d4f": {
     "model_module": "@jupyter-widgets/controls",
     "model_name": "HBoxModel",
     "state": {
      "_dom_classes": [],
      "_model_module": "@jupyter-widgets/controls",
      "_model_module_version": "1.5.0",
      "_model_name": "HBoxModel",
      "_view_count": null,
      "_view_module": "@jupyter-widgets/controls",
      "_view_module_version": "1.5.0",
      "_view_name": "HBoxView",
      "box_style": "",
      "children": [
       "IPY_MODEL_d7ffd5a5a8874c2d8e593cb29c8f14b2",
       "IPY_MODEL_2ddbbe21934547db9e365d905ea1f024"
      ],
      "layout": "IPY_MODEL_62f38f8736314a098f91d7486b5b84f6"
     }
    },
    "97247a689ff744689528aa9555c13c62": {
     "model_module": "@jupyter-widgets/base",
     "model_name": "LayoutModel",
     "state": {
      "_model_module": "@jupyter-widgets/base",
      "_model_module_version": "1.2.0",
      "_model_name": "LayoutModel",
      "_view_count": null,
      "_view_module": "@jupyter-widgets/base",
      "_view_module_version": "1.2.0",
      "_view_name": "LayoutView",
      "align_content": null,
      "align_items": null,
      "align_self": null,
      "border": null,
      "bottom": null,
      "display": null,
      "flex": null,
      "flex_flow": null,
      "grid_area": null,
      "grid_auto_columns": null,
      "grid_auto_flow": null,
      "grid_auto_rows": null,
      "grid_column": null,
      "grid_gap": null,
      "grid_row": null,
      "grid_template_areas": null,
      "grid_template_columns": null,
      "grid_template_rows": null,
      "height": null,
      "justify_content": null,
      "justify_items": null,
      "left": null,
      "margin": null,
      "max_height": null,
      "max_width": null,
      "min_height": null,
      "min_width": null,
      "object_fit": null,
      "object_position": null,
      "order": null,
      "overflow": null,
      "overflow_x": null,
      "overflow_y": null,
      "padding": null,
      "right": null,
      "top": null,
      "visibility": null,
      "width": null
     }
    },
    "c0204fcad9f64dd48580f7d17767abc6": {
     "model_module": "@jupyter-widgets/base",
     "model_name": "LayoutModel",
     "state": {
      "_model_module": "@jupyter-widgets/base",
      "_model_module_version": "1.2.0",
      "_model_name": "LayoutModel",
      "_view_count": null,
      "_view_module": "@jupyter-widgets/base",
      "_view_module_version": "1.2.0",
      "_view_name": "LayoutView",
      "align_content": null,
      "align_items": null,
      "align_self": null,
      "border": null,
      "bottom": null,
      "display": null,
      "flex": null,
      "flex_flow": null,
      "grid_area": null,
      "grid_auto_columns": null,
      "grid_auto_flow": null,
      "grid_auto_rows": null,
      "grid_column": null,
      "grid_gap": null,
      "grid_row": null,
      "grid_template_areas": null,
      "grid_template_columns": null,
      "grid_template_rows": null,
      "height": null,
      "justify_content": null,
      "justify_items": null,
      "left": null,
      "margin": null,
      "max_height": null,
      "max_width": null,
      "min_height": null,
      "min_width": null,
      "object_fit": null,
      "object_position": null,
      "order": null,
      "overflow": null,
      "overflow_x": null,
      "overflow_y": null,
      "padding": null,
      "right": null,
      "top": null,
      "visibility": null,
      "width": null
     }
    },
    "ced98407e9ee4ee4bd0baaa24d4765b9": {
     "model_module": "@jupyter-widgets/controls",
     "model_name": "DescriptionStyleModel",
     "state": {
      "_model_module": "@jupyter-widgets/controls",
      "_model_module_version": "1.5.0",
      "_model_name": "DescriptionStyleModel",
      "_view_count": null,
      "_view_module": "@jupyter-widgets/base",
      "_view_module_version": "1.2.0",
      "_view_name": "StyleView",
      "description_width": ""
     }
    },
    "d7ffd5a5a8874c2d8e593cb29c8f14b2": {
     "model_module": "@jupyter-widgets/controls",
     "model_name": "FloatProgressModel",
     "state": {
      "_dom_classes": [],
      "_model_module": "@jupyter-widgets/controls",
      "_model_module_version": "1.5.0",
      "_model_name": "FloatProgressModel",
      "_view_count": null,
      "_view_module": "@jupyter-widgets/controls",
      "_view_module_version": "1.5.0",
      "_view_name": "ProgressView",
      "bar_style": "",
      "description": "ELBO: -291128.0:  87%",
      "description_tooltip": null,
      "layout": "IPY_MODEL_5da21c8eac7041898c7a468f0388e632",
      "max": 30,
      "min": 0,
      "orientation": "horizontal",
      "style": "IPY_MODEL_19ad77a391f7459f811262d5bdbeb783",
      "value": 26
     }
    },
    "e8e6a6b80ed14b77900e87e1c779f459": {
     "model_module": "@jupyter-widgets/controls",
     "model_name": "HTMLModel",
     "state": {
      "_dom_classes": [],
      "_model_module": "@jupyter-widgets/controls",
      "_model_module_version": "1.5.0",
      "_model_name": "HTMLModel",
      "_view_count": null,
      "_view_module": "@jupyter-widgets/controls",
      "_view_module_version": "1.5.0",
      "_view_name": "HTMLView",
      "description": "",
      "description_tooltip": null,
      "layout": "IPY_MODEL_14de5bf9b23f47d4867e135cf156ac97",
      "placeholder": "​",
      "style": "IPY_MODEL_ced98407e9ee4ee4bd0baaa24d4765b9",
      "value": " 25/25 [00:06&lt;00:00,  3.78it/s]"
     }
    },
    "eb1c51978e0f4b79968cf6618a959007": {
     "model_module": "@jupyter-widgets/controls",
     "model_name": "DescriptionStyleModel",
     "state": {
      "_model_module": "@jupyter-widgets/controls",
      "_model_module_version": "1.5.0",
      "_model_name": "DescriptionStyleModel",
      "_view_count": null,
      "_view_module": "@jupyter-widgets/base",
      "_view_module_version": "1.2.0",
      "_view_name": "StyleView",
      "description_width": ""
     }
    },
    "f4e534f4d6ac45c6a7da04be7d341968": {
     "model_module": "@jupyter-widgets/base",
     "model_name": "LayoutModel",
     "state": {
      "_model_module": "@jupyter-widgets/base",
      "_model_module_version": "1.2.0",
      "_model_name": "LayoutModel",
      "_view_count": null,
      "_view_module": "@jupyter-widgets/base",
      "_view_module_version": "1.2.0",
      "_view_name": "LayoutView",
      "align_content": null,
      "align_items": null,
      "align_self": null,
      "border": null,
      "bottom": null,
      "display": null,
      "flex": null,
      "flex_flow": null,
      "grid_area": null,
      "grid_auto_columns": null,
      "grid_auto_flow": null,
      "grid_auto_rows": null,
      "grid_column": null,
      "grid_gap": null,
      "grid_row": null,
      "grid_template_areas": null,
      "grid_template_columns": null,
      "grid_template_rows": null,
      "height": null,
      "justify_content": null,
      "justify_items": null,
      "left": null,
      "margin": null,
      "max_height": null,
      "max_width": null,
      "min_height": null,
      "min_width": null,
      "object_fit": null,
      "object_position": null,
      "order": null,
      "overflow": null,
      "overflow_x": null,
      "overflow_y": null,
      "padding": null,
      "right": null,
      "top": null,
      "visibility": null,
      "width": null
     }
    }
   }
  }
 },
 "nbformat": 4,
 "nbformat_minor": 4
}
